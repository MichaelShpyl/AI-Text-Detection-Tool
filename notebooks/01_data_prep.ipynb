{
 "cells": [
  {
   "cell_type": "markdown",
   "metadata": {},
   "source": [
    "# Detecting AI-Generated Text: A Comprehensive Analysis and Model Development\n",
    "\n",
    "## Executive Summary and Key Findings\n",
    "\n",
    "In this project, I develop a multi-class text classifier to distinguish between **human-written**, **AI-paraphrased**, and **AI-generated** long-form content. This notebook (and subsequent ones) documents the entire process, from data curation to model evaluation. Key findings include:\n",
    "\n",
    "- **High Classification Performance:** My best model (RoBERTa-base) achieves about **91.1% overall accuracy** and **0.910 macro F1** on a held-out test set. Human-written text is identified with ~98.3% F1, while AI-generated and AI-paraphrased texts achieve ~88.3% and ~86.5% F1 respectively.\n",
    "- **Human vs AI Text Differences:** Exploratory analysis shows human-written articles tend to be longer (median ~255 words) than AI-generated or paraphrased ones (median ~184–211 words). Readability metrics and sentiment analysis reveal subtle differences: human text often has slightly more varied sentiment and higher complexity, whereas AI-generated content is relatively more neutral.\n",
    "- **Confusion Patterns:** The classifier most often confuses **AI-paraphrased vs AI-generated** texts with each other, while human text is rarely misclassified (>99% recall).\n",
    "\n",
    "## Introduction\n",
    "\n",
    "Advances in generative AI have made it possible for algorithms to produce human-like text, raising concerns in domains like journalism and education about authenticity and plagiarism. **Detecting AI-generated text** has thus become crucial for maintaining academic integrity and trust in written content.\n",
    "\n",
    "I approach the problem as a three-class classification:\n",
    "1. **Human-written** text (authored entirely by people),  \n",
    "2. **AI-generated** text (produced by language models like GPT-4 or DeepSeeck without human edits),  \n",
    "3. **AI-paraphrased** text (human-written content that has been rephrased by AI, or AI text lightly edited by humans).\n",
    "\n",
    "My dataset is balanced (~130k samples per class) and derived from a large news corpus for human text, with AI variants created using local DeepSeeck. I experiment with transformer-based models (BERT, RoBERTa, Longformer) to develop and evaluate our detector. This notebook begins with data preparation steps.\n"
   ]
  },
  {
   "cell_type": "markdown",
   "metadata": {},
   "source": [
    "### Data Loading\n",
    "\n",
    "First, I load the raw dataset of articles. The data is expected as a CSV file (`final_dataset.csv`) containing at least a text and label for each entry. I'll use my `data_utils.load_raw_data` function, which reads the path from my configuration.\n"
   ]
  },
  {
   "cell_type": "code",
   "execution_count": null,
   "metadata": {
    "vscode": {
     "languageId": "plaintext"
    }
   },
   "outputs": [],
   "source": [
    "import pandas as pd\n",
    "from utils import data_utils\n",
    "\n",
    "# Load raw data\n",
    "raw_df = data_utils.load_raw_data()\n",
    "print(f\"Loaded raw dataset with {raw_df.shape[0]} entries and columns: {list(raw_df.columns)}\")\n",
    "raw_df.head(3)\n"
   ]
  }
 ],
 "metadata": {
  "language_info": {
   "name": "python"
  }
 },
 "nbformat": 4,
 "nbformat_minor": 2
}
