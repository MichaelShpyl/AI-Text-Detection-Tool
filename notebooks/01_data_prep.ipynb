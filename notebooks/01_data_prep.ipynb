{
 "cells": [
  {
   "cell_type": "markdown",
   "metadata": {},
   "source": [
    "# Detecting AI-Generated Text: A Comprehensive Analysis and Model Development\n",
    "\n",
    "## Executive Summary and Key Findings\n",
    "\n",
    "In this project, I develop a multi-class text classifier to distinguish between **human-written**, **AI-paraphrased**, and **AI-generated** long-form content. This notebook (and subsequent ones) documents the entire process, from data curation to model evaluation. Key findings include:\n",
    "\n",
    "- **High Classification Performance:** My best model (RoBERTa-base) achieves about **91.1% overall accuracy** and **0.910 macro F1** on a held-out test set. Human-written text is identified with ~98.3% F1, while AI-generated and AI-paraphrased texts achieve ~88.3% and ~86.5% F1 respectively.\n",
    "- **Human vs AI Text Differences:** Exploratory analysis shows human-written articles tend to be longer (median ~255 words) than AI-generated or paraphrased ones (median ~184–211 words). Readability metrics and sentiment analysis reveal subtle differences: human text often has slightly more varied sentiment and higher complexity, whereas AI-generated content is relatively more neutral.\n",
    "- **Confusion Patterns:** The classifier most often confuses **AI-paraphrased vs AI-generated** texts with each other, while human text is rarely misclassified (>99% recall).\n",
    "\n",
    "## Introduction\n",
    "\n",
    "Advances in generative AI have made it possible for algorithms to produce human-like text, raising concerns in domains like journalism and education about authenticity and plagiarism. **Detecting AI-generated text** has thus become crucial for maintaining academic integrity and trust in written content.\n",
    "\n",
    "I approach the problem as a three-class classification:\n",
    "1. **Human-written** text (authored entirely by people),  \n",
    "2. **AI-generated** text (produced by language models like GPT-4 or DeepSeeck without human edits),  \n",
    "3. **AI-paraphrased** text (human-written content that has been rephrased by AI, or AI text lightly edited by humans).\n",
    "\n",
    "My dataset is balanced (~130k samples per class) and derived from a large news corpus for human text, with AI variants created using local DeepSeeck. I experiment with transformer-based models (BERT, RoBERTa, Longformer) to develop and evaluate our detector. This notebook begins with data preparation steps.\n"
   ]
  },
  {
   "cell_type": "markdown",
   "metadata": {},
   "source": [
    "### Data Loading\n",
    "\n",
    "First, I load the raw dataset of articles. The data is expected as a CSV file (`final_dataset.csv`) containing at least a text and label for each entry. I'll use my `data_utils.load_raw_data` function, which reads the path from my configuration.\n"
   ]
  },
  {
   "cell_type": "code",
   "execution_count": 1,
   "metadata": {},
   "outputs": [
    {
     "name": "stdout",
     "output_type": "stream",
     "text": [
      "new cwd: C:\\Testing\\Final_Year_Project\\AI-Text-Detection-Tool\n"
     ]
    }
   ],
   "source": [
    "# move up one level so that open(\"config.yaml\") works\n",
    "import os\n",
    "os.chdir(os.path.abspath(os.path.join(os.getcwd(), \"..\")))\n",
    "print(\"new cwd:\", os.getcwd())\n"
   ]
  },
  {
   "cell_type": "code",
   "execution_count": 2,
   "metadata": {},
   "outputs": [
    {
     "name": "stdout",
     "output_type": "stream",
     "text": [
      "[data_utils] Loaded raw data: 128967 records, 3 columns.\n",
      "Loaded raw dataset with 128967 entries and columns: ['human_written', 'ai_paraphrased', 'ai_generated']\n"
     ]
    },
    {
     "data": {
      "text/html": [
       "<div>\n",
       "<style scoped>\n",
       "    .dataframe tbody tr th:only-of-type {\n",
       "        vertical-align: middle;\n",
       "    }\n",
       "\n",
       "    .dataframe tbody tr th {\n",
       "        vertical-align: top;\n",
       "    }\n",
       "\n",
       "    .dataframe thead th {\n",
       "        text-align: right;\n",
       "    }\n",
       "</style>\n",
       "<table border=\"1\" class=\"dataframe\">\n",
       "  <thead>\n",
       "    <tr style=\"text-align: right;\">\n",
       "      <th></th>\n",
       "      <th>human_written</th>\n",
       "      <th>ai_paraphrased</th>\n",
       "      <th>ai_generated</th>\n",
       "    </tr>\n",
       "  </thead>\n",
       "  <tbody>\n",
       "    <tr>\n",
       "      <th>0</th>\n",
       "      <td>LONDON (Reuters) - Italy's 10-year government ...</td>\n",
       "      <td>London (Reuters)  Italys 10-year government bo...</td>\n",
       "      <td>PIMCO has expressed concerns about the risk co...</td>\n",
       "    </tr>\n",
       "    <tr>\n",
       "      <th>1</th>\n",
       "      <td>The Yankees vs Tigers brawl was so crazy ... t...</td>\n",
       "      <td>One night, when the 83-year-old Larry King, wh...</td>\n",
       "      <td>The Yankees and Tigers had a heated baseball b...</td>\n",
       "    </tr>\n",
       "    <tr>\n",
       "      <th>2</th>\n",
       "      <td>Meet Otto Von Schirach. He's been DJing since ...</td>\n",
       "      <td>Heres a fresh take on the article with nearly ...</td>\n",
       "      <td>Otto Von Schirach: A DJ Who Meets Fashion\\n\\n...</td>\n",
       "    </tr>\n",
       "  </tbody>\n",
       "</table>\n",
       "</div>"
      ],
      "text/plain": [
       "                                       human_written  \\\n",
       "0  LONDON (Reuters) - Italy's 10-year government ...   \n",
       "1  The Yankees vs Tigers brawl was so crazy ... t...   \n",
       "2  Meet Otto Von Schirach. He's been DJing since ...   \n",
       "\n",
       "                                      ai_paraphrased  \\\n",
       "0  London (Reuters)  Italys 10-year government bo...   \n",
       "1  One night, when the 83-year-old Larry King, wh...   \n",
       "2  Heres a fresh take on the article with nearly ...   \n",
       "\n",
       "                                        ai_generated  \n",
       "0  PIMCO has expressed concerns about the risk co...  \n",
       "1  The Yankees and Tigers had a heated baseball b...  \n",
       "2   Otto Von Schirach: A DJ Who Meets Fashion\\n\\n...  "
      ]
     },
     "execution_count": 2,
     "metadata": {},
     "output_type": "execute_result"
    }
   ],
   "source": [
    "import pandas as pd\n",
    "import os, sys\n",
    "# add the project root (one level up) into Python’s module search path\n",
    "sys.path.insert(0, os.path.abspath(os.path.join(os.getcwd(), \"..\")))\n",
    "from utils import data_utils\n",
    "\n",
    "# Load raw data\n",
    "raw_df = data_utils.load_raw_data()\n",
    "print(f\"Loaded raw dataset with {raw_df.shape[0]} entries and columns: {list(raw_df.columns)}\")\n",
    "raw_df.head(3)\n"
   ]
  },
  {
   "cell_type": "markdown",
   "metadata": {},
   "source": [
    "### Data Preparation\n",
    "\n",
    "Next, I ensure the dataset is in a standard format and clean the text. I will:\n",
    "1. **Flatten** the dataset into `text` and `label` columns using our `flatten_dataset` function.\n",
    "2. **Clean** the text strings (lowercase, remove extra whitespace) with `clean_text`.\n",
    "\n",
    "This prepares the data for downstream analysis and modeling.\n"
   ]
  },
  {
   "cell_type": "code",
   "execution_count": 4,
   "metadata": {},
   "outputs": [
    {
     "name": "stdout",
     "output_type": "stream",
     "text": [
      "[data_utils] Loaded raw data: 128967 records, 3 columns.\n",
      "[data_utils] Flattened dataset: 386901 records with columns ['text', 'label']\n",
      "Saved full cleaned dataset for EDA at data/cleaned_dataset.parquet\n",
      "Sample cleaned text:\n",
      "london (reuters) - italy's 10-year government bond yields currently do not adequately compensate inv...\n",
      "Labels distribution: {'human_written': 128967, 'ai_paraphrased': 128967, 'ai_generated': 128967}\n"
     ]
    }
   ],
   "source": [
    "from utils import data_utils, text_cleaner\n",
    "from utils.data_utils import config\n",
    "\n",
    "# 1) Load the raw DataFrame (your three‑column CSV)\n",
    "raw_df = data_utils.load_raw_data()\n",
    "\n",
    "# 2) Flatten into the two‑column format (text + label)\n",
    "df = data_utils.flatten_dataset(raw_df)\n",
    "\n",
    "# 3) Clean the text strings in place\n",
    "df['text'] = df['text'].apply(lambda t: text_cleaner.clean_text(t, lemmatize=False))\n",
    "df.to_parquet(config['paths']['cleaned_data'], index=False)\n",
    "print(\"Saved full cleaned dataset for EDA at\", config['paths']['cleaned_data'])\n",
    "\n",
    "# 4) Inspect a sample and label distribution\n",
    "print(\"Sample cleaned text:\")\n",
    "print(df.loc[0, 'text'][:100] + \"...\")\n",
    "print(\"Labels distribution:\", df['label'].value_counts().to_dict())\n",
    "\n"
   ]
  },
  {
   "cell_type": "markdown",
   "metadata": {},
   "source": [
    "### Train–Validation–Test Split\n",
    "\n",
    "Now I split the cleaned dataset into train, validation, and test subsets (80/10/10) with stratification to preserve class balance. I then save each split to disk as Parquet files for reuse in later notebooks.\n"
   ]
  },
  {
   "cell_type": "code",
   "execution_count": null,
   "metadata": {},
   "outputs": [],
   "source": [
    "import sys\n",
    "!{sys.executable} -m pip install pyarrow\n"
   ]
  },
  {
   "cell_type": "code",
   "execution_count": null,
   "metadata": {},
   "outputs": [],
   "source": [
    "import yaml\n",
    "\n",
    "# Load config for file paths\n",
    "with open(\"config.yaml\", \"r\") as f:\n",
    "    config = yaml.safe_load(f)\n",
    "\n",
    "# Split into train, validation, and test sets\n",
    "train_df, val_df, test_df = data_utils.train_val_test_split(\n",
    "    df,\n",
    "    val_fraction=config['training']['batch_size'] and 0.1,  # we’ll keep defaults here\n",
    "    test_fraction=0.1,\n",
    "    random_state=42\n",
    ")\n",
    "print(f\"Split sizes → Train: {len(train_df)}, Val: {len(val_df)}, Test: {len(test_df)}\")\n",
    "\n",
    "# Save the splits\n",
    "train_df.to_parquet(config['paths']['train_data'], index=False, engine='pyarrow')\n",
    "val_df.to_parquet(config['paths']['val_data'], index=False)\n",
    "test_df.to_parquet(config['paths']['test_data'], index=False)\n",
    "print(\"Train/Val/Test saved to disk.\")\n"
   ]
  },
  {
   "cell_type": "code",
   "execution_count": null,
   "metadata": {},
   "outputs": [],
   "source": []
  }
 ],
 "metadata": {
  "kernelspec": {
   "display_name": "MyProject (Conda)",
   "language": "python",
   "name": "myproject"
  },
  "language_info": {
   "codemirror_mode": {
    "name": "ipython",
    "version": 3
   },
   "file_extension": ".py",
   "mimetype": "text/x-python",
   "name": "python",
   "nbconvert_exporter": "python",
   "pygments_lexer": "ipython3",
   "version": "3.9.21"
  }
 },
 "nbformat": 4,
 "nbformat_minor": 4
}
