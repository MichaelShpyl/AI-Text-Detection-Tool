{
 "cells": [
  {
   "cell_type": "markdown",
   "metadata": {},
   "source": [
    "# Feature Engineering\n",
    "\n",
    "While my primary models will be transformer-based (which learn features from text directly), I also engineer some intuitive features for analysis and potential baseline models:\n",
    "- **Lexical Diversity:** ratio of unique words to total words (higher = more varied vocabulary).\n",
    "- **Readability and Sentiment:** (Already computed in EDA) can be considered features as well.\n",
    "\n",
    "These features can help us interpret the data and also try a classic ML approach (e.g., Random Forest) to see how it performs relative to transformers. In this notebook, I will:\n",
    "1. Compute the lexical diversity for each entry.\n",
    "2. (Optional) Train a simple classifier on these features + TF-IDF as a comparison.\n",
    "\n",
    "Let's begin by loading the datasets.\n"
   ]
  },
  {
   "cell_type": "code",
   "execution_count": 2,
   "metadata": {},
   "outputs": [
    {
     "name": "stdout",
     "output_type": "stream",
     "text": [
      "new cwd: c:\\Testing\\Final_Year_Project\\AI-Text-Detection-Tool\n"
     ]
    }
   ],
   "source": [
    "# move up one level so that works\n",
    "import os\n",
    "os.chdir(os.path.abspath(os.path.join(os.getcwd(), \"..\")))\n",
    "print(\"new cwd:\", os.getcwd())\n"
   ]
  },
  {
   "cell_type": "code",
   "execution_count": 3,
   "metadata": {},
   "outputs": [
    {
     "name": "stdout",
     "output_type": "stream",
     "text": [
      "Train: 309520, Val: 38690, Test: 38691\n"
     ]
    }
   ],
   "source": [
    "import pandas as pd\n",
    "from utils import features\n",
    "\n",
    "# Load splits\n",
    "train_df = pd.read_parquet(\"data/train_dataset.parquet\")\n",
    "val_df   = pd.read_parquet(\"data/val_dataset.parquet\")\n",
    "test_df  = pd.read_parquet(\"data/test_dataset.parquet\")\n",
    "print(f\"Train: {len(train_df)}, Val: {len(val_df)}, Test: {len(test_df)}\")\n"
   ]
  }
 ],
 "metadata": {
  "kernelspec": {
   "display_name": "MyProject (Conda)",
   "language": "python",
   "name": "myproject"
  },
  "language_info": {
   "codemirror_mode": {
    "name": "ipython",
    "version": 3
   },
   "file_extension": ".py",
   "mimetype": "text/x-python",
   "name": "python",
   "nbconvert_exporter": "python",
   "pygments_lexer": "ipython3",
   "version": "3.9.21"
  }
 },
 "nbformat": 4,
 "nbformat_minor": 2
}
