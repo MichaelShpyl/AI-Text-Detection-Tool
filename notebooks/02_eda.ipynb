{
 "cells": [
  {
   "cell_type": "markdown",
   "metadata": {},
   "source": [
    "# Exploratory Data Analysis (EDA)\n",
    "\n",
    "In this notebook, I investigate the properties of the dataset to gain insights that might inform my modeling. I analyze:\n",
    "- **Class distribution:** Verify the dataset balance and ensure no unexpected skew.\n",
    "- **Text length distribution:** Check how article lengths differ among classes.\n",
    "- **Readability and sentiment:** Compute additional metrics to see if humans and AI differ in writing style or tone.\n",
    "\n",
    "Understanding these aspects helps validate my data and gives context to the modeling results. First, we load the processed dataset from the previous step.\n"
   ]
  },
  {
   "cell_type": "code",
   "execution_count": 1,
   "metadata": {},
   "outputs": [
    {
     "name": "stdout",
     "output_type": "stream",
     "text": [
      "new cwd: c:\\Testing\\Final_Year_Project\\AI-Text-Detection-Tool\n"
     ]
    }
   ],
   "source": [
    "# move up one level so that works\n",
    "import os\n",
    "os.chdir(os.path.abspath(os.path.join(os.getcwd(), \"..\")))\n",
    "print(\"new cwd:\", os.getcwd())\n"
   ]
  },
  {
   "cell_type": "code",
   "execution_count": 2,
   "metadata": {},
   "outputs": [
    {
     "name": "stdout",
     "output_type": "stream",
     "text": [
      "Requirement already satisfied: textstat in c:\\users\\micha\\.conda\\envs\\myenv\\lib\\site-packages (0.7.5)\n",
      "Requirement already satisfied: vaderSentiment in c:\\users\\micha\\.conda\\envs\\myenv\\lib\\site-packages (3.3.2)\n",
      "Requirement already satisfied: pyphen in c:\\users\\micha\\.conda\\envs\\myenv\\lib\\site-packages (from textstat) (0.17.2)\n",
      "Requirement already satisfied: cmudict in c:\\users\\micha\\.conda\\envs\\myenv\\lib\\site-packages (from textstat) (1.0.32)\n",
      "Requirement already satisfied: setuptools in c:\\users\\micha\\.conda\\envs\\myenv\\lib\\site-packages (from textstat) (75.8.0)\n",
      "Requirement already satisfied: requests in c:\\users\\micha\\.conda\\envs\\myenv\\lib\\site-packages (from vaderSentiment) (2.32.3)\n",
      "Requirement already satisfied: importlib-metadata>=5 in c:\\users\\micha\\.conda\\envs\\myenv\\lib\\site-packages (from cmudict->textstat) (8.6.1)\n",
      "Requirement already satisfied: importlib-resources>=5 in c:\\users\\micha\\.conda\\envs\\myenv\\lib\\site-packages (from cmudict->textstat) (6.5.2)\n",
      "Requirement already satisfied: charset-normalizer<4,>=2 in c:\\users\\micha\\.conda\\envs\\myenv\\lib\\site-packages (from requests->vaderSentiment) (3.3.2)\n",
      "Requirement already satisfied: idna<4,>=2.5 in c:\\users\\micha\\.conda\\envs\\myenv\\lib\\site-packages (from requests->vaderSentiment) (3.7)\n",
      "Requirement already satisfied: urllib3<3,>=1.21.1 in c:\\users\\micha\\.conda\\envs\\myenv\\lib\\site-packages (from requests->vaderSentiment) (2.3.0)\n",
      "Requirement already satisfied: certifi>=2017.4.17 in c:\\users\\micha\\.conda\\envs\\myenv\\lib\\site-packages (from requests->vaderSentiment) (2025.1.31)\n",
      "Requirement already satisfied: zipp>=3.20 in c:\\users\\micha\\.conda\\envs\\myenv\\lib\\site-packages (from importlib-metadata>=5->cmudict->textstat) (3.21.0)\n"
     ]
    }
   ],
   "source": [
    "import sys\n",
    "!{sys.executable} -m pip install textstat vaderSentiment"
   ]
  },
  {
   "cell_type": "code",
   "execution_count": 3,
   "metadata": {},
   "outputs": [
    {
     "name": "stdout",
     "output_type": "stream",
     "text": [
      "EDA dataset loaded: 386901 samples, columns: ['text', 'label']\n"
     ]
    },
    {
     "data": {
      "text/html": [
       "<div>\n",
       "<style scoped>\n",
       "    .dataframe tbody tr th:only-of-type {\n",
       "        vertical-align: middle;\n",
       "    }\n",
       "\n",
       "    .dataframe tbody tr th {\n",
       "        vertical-align: top;\n",
       "    }\n",
       "\n",
       "    .dataframe thead th {\n",
       "        text-align: right;\n",
       "    }\n",
       "</style>\n",
       "<table border=\"1\" class=\"dataframe\">\n",
       "  <thead>\n",
       "    <tr style=\"text-align: right;\">\n",
       "      <th></th>\n",
       "      <th>text</th>\n",
       "      <th>label</th>\n",
       "    </tr>\n",
       "  </thead>\n",
       "  <tbody>\n",
       "    <tr>\n",
       "      <th>0</th>\n",
       "      <td>london (reuters) - italy's 10-year government ...</td>\n",
       "      <td>human_written</td>\n",
       "    </tr>\n",
       "    <tr>\n",
       "      <th>1</th>\n",
       "      <td>the yankees vs tigers brawl was so crazy ... t...</td>\n",
       "      <td>human_written</td>\n",
       "    </tr>\n",
       "  </tbody>\n",
       "</table>\n",
       "</div>"
      ],
      "text/plain": [
       "                                                text          label\n",
       "0  london (reuters) - italy's 10-year government ...  human_written\n",
       "1  the yankees vs tigers brawl was so crazy ... t...  human_written"
      ]
     },
     "execution_count": 3,
     "metadata": {},
     "output_type": "execute_result"
    }
   ],
   "source": [
    "import pandas as pd\n",
    "from utils import features, viz\n",
    "from utils.data_utils import config\n",
    "\n",
    "# Load the full cleaned dataset for EDA\n",
    "df = pd.read_parquet(config['paths']['cleaned_data'])\n",
    "print(f\"EDA dataset loaded: {df.shape[0]} samples, columns: {list(df.columns)}\")\n",
    "df.head(2)\n"
   ]
  },
  {
   "cell_type": "code",
   "execution_count": 4,
   "metadata": {},
   "outputs": [
    {
     "data": {
      "image/png": "[encoded data removed]",
      "text/plain": [
       "<Figure size 600x400 with 1 Axes>"
      ]
     },
     "metadata": {},
     "output_type": "display_data"
    }
   ],
   "source": [
    "# Plot class distribution\n",
    "fig = viz.plot_class_distribution(df, label_col='label', save_path=\"diagrams/class_distribution.png\")\n"
   ]
  }
 ],
 "metadata": {
  "kernelspec": {
   "display_name": "MyProject (Conda)",
   "language": "python",
   "name": "myproject"
  },
  "language_info": {
   "codemirror_mode": {
    "name": "ipython",
    "version": 3
   },
   "file_extension": ".py",
   "mimetype": "text/x-python",
   "name": "python",
   "nbconvert_exporter": "python",
   "pygments_lexer": "ipython3",
   "version": "3.9.21"
  }
 },
 "nbformat": 4,
 "nbformat_minor": 4
}
