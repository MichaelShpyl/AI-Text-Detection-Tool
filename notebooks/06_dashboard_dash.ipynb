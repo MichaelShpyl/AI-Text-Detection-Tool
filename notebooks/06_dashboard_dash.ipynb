{
 "cells": [
  {
   "cell_type": "markdown",
   "metadata": {},
   "source": [
    "# Plotly Dash Dashboard\n",
    "\n",
    "This dashboard allows interactive exploration of the AI Text Detector results. It has three tabs for:\n",
    "1. **EDA** – Visualizing data distributions (class balance, article length, etc.).\n",
    "2. **Evaluation** – Showing model performance metrics (confusion matrix, ROC curves).\n",
    "3. **Inference** – Providing an interface to input new text and get predictions with explanations.\n",
    "\n",
    "Run this app to launch the dashboard locally and interact with the model.\n"
   ]
  },
  {
   "cell_type": "code",
   "execution_count": null,
   "metadata": {},
   "outputs": [],
   "source": [
    "import dash\n",
    "from dash import dcc, html\n",
    "import base64, logging\n",
    "\n",
    "# Initialize Dash app\n",
    "app = dash.Dash(__name__)\n",
    "app.title = \"AI Text Detector Dashboard\"\n",
    "\n",
    "# Helper to read and encode image files as base64 URIs for embedding\n",
    "def encode_image(image_file):\n",
    "    with open(image_file, \"rb\") as f:\n",
    "        encoded = base64.b64encode(f.read()).decode(\"utf-8\")\n",
    "        return f\"data:image/png;base64,{encoded}\"\n",
    "\n",
    "# Load pre-generated plots from diagrams folder\n",
    "class_dist_img = encode_image(\"diagrams/class_distribution.png\")\n",
    "length_dist_img = encode_image(\"diagrams/length_distribution.png\")\n",
    "conf_matrix_img = encode_image(\"diagrams/confusion_matrix.png\")\n",
    "roc_curves_img = encode_image(\"diagrams/roc_curves.png\")\n",
    "\n",
    "# Define app layout with three tabs and a content container\n",
    "app.layout = html.Div([\n",
    "    html.H1(\"AI-Generated Text Detection Dashboard\", style={\"textAlign\": \"center\", \"marginBottom\": \"1em\"}),\n",
    "    dcc.Tabs(id=\"tabs\", value=\"tab-eda\", children=[\n",
    "        dcc.Tab(label=\"EDA\", value=\"tab-eda\"),\n",
    "        dcc.Tab(label=\"Evaluation\", value=\"tab-eval\"),\n",
    "        dcc.Tab(label=\"Inference\", value=\"tab-inf\")\n",
    "    ]),\n",
    "    html.Div(id=\"tab-content\")  # Container to dynamically render tab content\n",
    "])\n",
    "\n",
    "# (No callbacks yet; will be added in subsequent commits)\n"
   ]
  }
 ],
 "metadata": {
  "kernelspec": {
   "display_name": "MyProject (Conda)",
   "language": "python",
   "name": "myproject"
  },
  "language_info": {
   "name": "python",
   "version": "3.9.21"
  }
 },
 "nbformat": 4,
 "nbformat_minor": 2
}
