{
 "cells": [
  {
   "cell_type": "markdown",
   "metadata": {},
   "source": [
    "# Plotly Dash Dashboard\n",
    "\n",
    "This dashboard allows interactive exploration of the AI Text Detector results. It has three tabs for:\n",
    "1. **EDA** – Visualizing data distributions (class balance, article length, etc.).\n",
    "2. **Evaluation** – Showing model performance metrics (confusion matrix, ROC curves).\n",
    "3. **Inference** – Providing an interface to input new text and get predictions with explanations.\n",
    "\n",
    "Run this app to launch the dashboard locally and interact with the model.\n"
   ]
  },
  {
   "cell_type": "code",
   "execution_count": 8,
   "metadata": {},
   "outputs": [],
   "source": [
    "import dash\n",
    "from dash import dcc, html\n",
    "import base64, logging\n",
    "from pathlib import Path\n",
    "\n",
    "# ——— 1) Auto‑locate your diagrams/ directory ————————————————\n",
    "def find_diagrams_dir(start: Path = Path.cwd(), marker: str = \"diagrams\") -> Path:\n",
    "    for folder in (start, *start.parents):\n",
    "        candidate = folder / marker\n",
    "        if candidate.is_dir():\n",
    "            return candidate\n",
    "    raise FileNotFoundError(f\"Couldn’t locate a '{marker}/' directory under {start!s}\")\n",
    "\n",
    "DIAGRAMS_DIR = find_diagrams_dir()\n",
    "\n",
    "# ——— 2) Helper to read & encode image files as base64 URIs ————————\n",
    "def encode_image(filename: str) -> str:\n",
    "    img_path = (DIAGRAMS_DIR / filename).resolve()\n",
    "    if not img_path.exists():\n",
    "        raise FileNotFoundError(f\"Couldn’t find image {img_path}\")\n",
    "    with open(img_path, \"rb\") as f:\n",
    "        b64 = base64.b64encode(f.read()).decode(\"utf-8\")\n",
    "    return f\"data:image/png;base64,{b64}\"\n",
    "\n",
    "# ——— 3) Load all of your diagrams by their exact filenames ————————\n",
    "class_dist_img                  = encode_image(\"class_distribution.png\")\n",
    "class_weights_img               = encode_image(\"class_weights.png\")\n",
    "length_dist_img                 = encode_image(\"length_distribution.png\")\n",
    "split_pie_img                   = encode_image(\"split_proportions_pie.png\")\n",
    "readability_bar_img             = encode_image(\"readability_sentiment_bar.png\")\n",
    "readability_bar_annotated_img   = encode_image(\"readability_sentiment_bar_annotated.png\")\n",
    "readability_box_img             = encode_image(\"readability_sentiment_box.png\")\n",
    "readability_dist_img            = encode_image(\"readability_sentiment_dist.png\")\n",
    "readability_dist_colored_img    = encode_image(\"readability_sentiment_dist_colored.png\")\n",
    "conf_matrix_img                 = encode_image(\"baseline_confusion_matrix.png\")\n",
    "pr_curve_img                    = encode_image(\"baseline_pr_curves.png\")\n",
    "roc_curves_img                  = encode_image(\"baseline_roc_curves.png\")\n",
    "\n",
    "# ——— 4) Define app layout ————————————————————————————————\n",
    "app = dash.Dash(__name__)\n",
    "app.title = \"AI Text Detector Dashboard\"\n",
    "\n",
    "app.layout = html.Div([\n",
    "    html.H1(\n",
    "        \"AI‑Generated Text Detection Dashboard\",\n",
    "        style={\"textAlign\": \"center\", \"marginBottom\": \"1em\"}\n",
    "    ),\n",
    "    dcc.Tabs(id=\"tabs\", value=\"tab-eda\", children=[\n",
    "        dcc.Tab(label=\"EDA\",        value=\"tab-eda\"),\n",
    "        dcc.Tab(label=\"Evaluation\", value=\"tab-eval\"),\n",
    "        dcc.Tab(label=\"Inference\",  value=\"tab-inf\"),\n",
    "    ]),\n",
    "    html.Div(id=\"tab-content\")  # Container to dynamically render tab content\n",
    "])\n"
   ]
  },
  {
   "cell_type": "code",
   "execution_count": 9,
   "metadata": {},
   "outputs": [],
   "source": [
    "from dash.dependencies import Input, Output  # Callback inputs/outputs for interactivity\n",
    "\n",
    "# Callback to render content based on selected tab\n",
    "@app.callback(Output(\"tab-content\", \"children\"), Input(\"tabs\", \"value\"))\n",
    "def render_tab_content(tab):\n",
    "    \"\"\"Return the appropriate layout content for the selected tab.\"\"\"\n",
    "    if tab == \"tab-eda\":\n",
    "        # EDA tab: show class distribution and length distribution plots\n",
    "        return html.Div([\n",
    "            html.H3(\"Exploratory Data Analysis\", style={\"textAlign\": \"center\", \"marginTop\": \"1em\"}),\n",
    "            html.Img(src=class_dist_img, style={\"width\": \"45%\", \"display\": \"inline-block\", \"padding\": \"1em\"}),\n",
    "            html.Img(src=length_dist_img, style={\"width\": \"45%\", \"display\": \"inline-block\", \"padding\": \"1em\"}),\n",
    "            html.P(\n",
    "                \"The dataset is fairly balanced across classes. \"\n",
    "                \"Human-written texts are generally longer than AI-generated or AI-paraphrased ones.\",\n",
    "                style={\"textAlign\": \"center\", \"fontStyle\": \"italic\", \"marginTop\": \"0.5em\"}\n",
    "            )\n",
    "        ])\n",
    "    elif tab == \"tab-eval\":\n",
    "        # Evaluation content to be added in the next commit\n",
    "        return html.Div()\n",
    "    elif tab == \"tab-inf\":\n",
    "        # Inference content to be added later\n",
    "        return html.Div()\n",
    "    # Fallback (should not normally happen)\n",
    "    return html.Div()\n"
   ]
  },
  {
   "cell_type": "code",
   "execution_count": 10,
   "metadata": {},
   "outputs": [
    {
     "data": {
      "text/html": [
       "\n",
       "        <iframe\n",
       "            width=\"100%\"\n",
       "            height=\"650\"\n",
       "            src=\"http://127.0.0.1:8050/\"\n",
       "            frameborder=\"0\"\n",
       "            allowfullscreen\n",
       "            \n",
       "        ></iframe>\n",
       "        "
      ],
      "text/plain": [
       "<IPython.lib.display.IFrame at 0x1f3e2914cd0>"
      ]
     },
     "metadata": {},
     "output_type": "display_data"
    }
   ],
   "source": [
    "if __name__ == \"__main__\":\n",
    "    app.run_server(debug=True, port=8050)\n"
   ]
  }
 ],
 "metadata": {
  "kernelspec": {
   "display_name": "MyProject (Conda)",
   "language": "python",
   "name": "myproject"
  },
  "language_info": {
   "codemirror_mode": {
    "name": "ipython",
    "version": 3
   },
   "file_extension": ".py",
   "mimetype": "text/x-python",
   "name": "python",
   "nbconvert_exporter": "python",
   "pygments_lexer": "ipython3",
   "version": "3.9.21"
  }
 },
 "nbformat": 4,
 "nbformat_minor": 2
}
