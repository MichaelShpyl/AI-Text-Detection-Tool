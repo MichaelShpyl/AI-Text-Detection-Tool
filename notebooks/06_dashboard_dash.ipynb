{
 "cells": [
  {
   "cell_type": "markdown",
   "metadata": {},
   "source": [
    "# AI Text Detector Dashboard (Plotly Dash)\n",
    "\n",
    "This interactive dashboard has three tabs:\n",
    "1. **EDA** – View class and length distributions.  \n",
    "2. **Evaluation** – See confusion matrix and ROC curves.  \n",
    "3. **Inference** – Input text to get model predictions.\n"
   ]
  },
  {
   "cell_type": "code",
   "execution_count": null,
   "metadata": {},
   "outputs": [],
   "source": [
    "import dash\n",
    "from dash import dcc, html\n",
    "import base64\n",
    "\n",
    "# Initialize Dash app\n",
    "app = dash.Dash(__name__)\n",
    "app.title = \"AI Text Detector Dashboard\"\n",
    "\n",
    "# Helper to embed images\n",
    "def encode_image(path):\n",
    "    with open(path, 'rb') as f:\n",
    "        return 'data:image/png;base64,' + base64.b64encode(f.read()).decode()\n",
    "\n",
    "# Preload images\n",
    "class_img = encode_image(\"diagrams/class_distribution.png\")\n",
    "length_img = encode_image(\"diagrams/length_distribution.png\")\n",
    "conf_img = encode_image(\"diagrams/confusion_matrix.png\")\n",
    "roc_img = encode_image(\"diagrams/roc_curves.png\")\n",
    "\n",
    "# App layout with tabs\n",
    "app.layout = html.Div([\n",
    "    html.H1(\"AI Text Detector\", style={'textAlign': 'center'}),\n",
    "    dcc.Tabs(id='tabs', value='eda', children=[\n",
    "        dcc.Tab(label='EDA', value='eda'),\n",
    "        dcc.Tab(label='Evaluation', value='eval'),\n",
    "        dcc.Tab(label='Inference', value='inf'),\n",
    "    ]),\n",
    "    html.Div(id='tab-content')\n",
    "])\n"
   ]
  },
  {
   "cell_type": "code",
   "execution_count": null,
   "metadata": {},
   "outputs": [],
   "source": [
    "from dash.dependencies import Input, Output\n",
    "import dash\n",
    "\n",
    "@app.callback(\n",
    "    Output('tab-content', 'children'),\n",
    "    Input('tabs', 'value')\n",
    ")\n",
    "def render_tab(tab):\n",
    "    if tab == 'eda':\n",
    "        return html.Div([\n",
    "            html.H3(\"Exploratory Data Analysis\", style={'textAlign':'center'}),\n",
    "            html.Img(src=class_img, style={'width':'45%', 'display':'inline-block', 'padding':'1em'}),\n",
    "            html.Img(src=length_img, style={'width':'45%', 'display':'inline-block', 'padding':'1em'}),\n",
    "            html.P(\n",
    "                \"The dataset is balanced across classes. Human‑written texts are generally longer than AI‑generated or paraphrased ones.\",\n",
    "                style={'textAlign':'center','fontStyle':'italic'}\n",
    "            )\n",
    "        ])\n",
    "    elif tab == 'eval':\n",
    "        return html.Div([\n",
    "            html.H3(\"Model Evaluation\", style={'textAlign':'center'}),\n",
    "            html.Img(src=conf_img, style={'width':'40%', 'display':'inline-block', 'padding':'1em'}),\n",
    "            html.Img(src=roc_img, style={'width':'50%', 'display':'inline-block', 'padding':'1em'}),\n",
    "            html.P(\n",
    "                \"Overall accuracy ~91%. Human text is identified with >99% recall; most errors occur between AI‑generated and AI‑paraphrased.\",\n",
    "                style={'textAlign':'center','fontStyle':'italic'}\n",
    "            )\n",
    "        ])\n",
    "    else:  # tab == 'inf'\n",
    "        return html.Div([\n",
    "            html.H3(\"Try the Detector\", style={'textAlign':'center'}),\n",
    "            dcc.Textarea(\n",
    "                id='input-text',\n",
    "                style={'width':'80%','height':'150px'},\n",
    "                placeholder=\"Enter your text here...\"\n",
    "            ),\n",
    "            html.Br(),\n",
    "            html.Button(\"Detect\", id='detect-button'),\n",
    "            html.Div(id='result-output', style={'marginTop':'1em'})\n",
    "        ])\n"
   ]
  },
  {
   "cell_type": "code",
   "execution_count": null,
   "metadata": {},
   "outputs": [],
   "source": [
    "from utils import dashboard_utils\n",
    "\n",
    "@app.callback(\n",
    "    Output('result-output', 'children'),\n",
    "    Input('detect-button', 'n_clicks'),\n",
    "    Input('input-text', 'value')\n",
    ")\n",
    "def run_inference(n_clicks, text):\n",
    "    if not n_clicks or not text:\n",
    "        return \"\"\n",
    "    # Load model once (cache inside function)\n",
    "    global _tokenizer, _model\n",
    "    try:\n",
    "        _tokenizer, _model\n",
    "    except NameError:\n",
    "        _tokenizer, _model = dashboard_utils.load_final_model()\n",
    "    label, probs = dashboard_utils.predict_text(text, _tokenizer, _model)\n",
    "    # Format output\n",
    "    lines = [f\"**Predicted:** {label}\", \"\"]\n",
    "    for cls, p in probs.items():\n",
    "        lines.append(f\"- {cls}: {p:.2%}\")\n",
    "    # Save session\n",
    "    dashboard_utils.save_session_entry(text, label, mode='json')\n",
    "    return dcc.Markdown(\"\\n\".join(lines))\n"
   ]
  },
  {
   "cell_type": "code",
   "execution_count": null,
   "metadata": {},
   "outputs": [],
   "source": [
    "if __name__ == '__main__':\n",
    "    app.run_server(debug=True, host='0.0.0.0', port=8050)\n"
   ]
  }
 ],
 "metadata": {
  "kernelspec": {
   "display_name": "MyProject (Conda)",
   "language": "python",
   "name": "myproject"
  },
  "language_info": {
   "name": "python",
   "version": "3.9.21"
  }
 },
 "nbformat": 4,
 "nbformat_minor": 2
}
