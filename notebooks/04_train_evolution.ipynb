{
 "cells": [
  {
   "cell_type": "markdown",
   "metadata": {},
   "source": [
    "# Model Training (BERT → RoBERTa Evolution)\n",
    "\n",
    "In this notebook, I fine‑tune transformer models on my dataset. I start with **BERT‑base**, then **RoBERTa‑base**, comparing validation performance to select a final model. I also prepare for class imbalance handling and logging.\n"
   ]
  },
  {
   "cell_type": "code",
   "execution_count": 1,
   "metadata": {},
   "outputs": [
    {
     "name": "stdout",
     "output_type": "stream",
     "text": [
      "new cwd: c:\\Testing\\Final_Year_Project\\AI-Text-Detection-Tool\n"
     ]
    }
   ],
   "source": [
    "# move up one level so that works\n",
    "import os\n",
    "os.chdir(os.path.abspath(os.path.join(os.getcwd(), \"..\")))\n",
    "print(\"new cwd:\", os.getcwd())\n"
   ]
  },
  {
   "cell_type": "code",
   "execution_count": 2,
   "metadata": {},
   "outputs": [
    {
     "name": "stdout",
     "output_type": "stream",
     "text": [
      "Data sizes → Train: 309520, Val: 38690, Test: 38691\n",
      "Class weights: [1.0000032308194327, 1.0000032308194327, 0.999993538423763]\n"
     ]
    }
   ],
   "source": [
    "import torch\n",
    "import numpy as np\n",
    "import logging\n",
    "import yaml\n",
    "import pandas as pd\n",
    "from transformers import TrainingArguments, EarlyStoppingCallback\n",
    "from utils import model_utils\n",
    "\n",
    "# Load configuration\n",
    "with open(\"config.yaml\", \"r\") as f:\n",
    "    config = yaml.safe_load(f)\n",
    "\n",
    "# Load splits\n",
    "train_df = pd.read_parquet(config['paths']['train_data'])\n",
    "val_df   = pd.read_parquet(config['paths']['val_data'])\n",
    "test_df  = pd.read_parquet(config['paths']['test_data'])\n",
    "print(f\"Data sizes → Train: {len(train_df)}, Val: {len(val_df)}, Test: {len(test_df)}\")\n",
    "\n",
    "# Set up logging to file\n",
    "logging.basicConfig(\n",
    "    filename=config['paths']['log_file'],\n",
    "    level=logging.INFO,\n",
    "    format=\"%(asctime)s %(levelname)s: %(message)s\"\n",
    ")\n",
    "logging.info(\"Started training pipeline (BERT → RoBERTa)\")\n",
    "\n",
    "# Compute class weights for loss\n",
    "labels, counts = np.unique(train_df['label'], return_counts=True)\n",
    "class_weights = (1.0 / counts) * np.mean(counts)\n",
    "# Map to [0,1,2] order\n",
    "weight_list = [0]*len(class_weights)\n",
    "for lab, wt in zip(labels, class_weights):\n",
    "    idx = config['model']['label_mapping'][lab]\n",
    "    weight_list[idx] = float(wt)\n",
    "print(\"Class weights:\", weight_list)\n"
   ]
  },
  {
   "cell_type": "code",
   "execution_count": null,
   "metadata": {},
   "outputs": [
    {
     "name": "stderr",
     "output_type": "stream",
     "text": [
      "C:\\Users\\micha\\AppData\\Local\\Temp\\ipykernel_30132\\4116202626.py:14: FutureWarning: \n",
      "\n",
      "Passing `palette` without assigning `hue` is deprecated and will be removed in v0.14.0. Assign the `x` variable to `hue` and set `legend=False` for the same effect.\n",
      "\n",
      "  sns.barplot(\n"
     ]
    },
    {
     "data": {
      "image/png": "[encoded data removed]",
      "text/plain": [
       "<Figure size 600x400 with 1 Axes>"
      ]
     },
     "metadata": {},
     "output_type": "display_data"
    }
   ],
   "source": [
    "# ─────────────────────────────────────────────────────────────────────────────\n",
    "# Visualize class breakdown per split as a stacked bar chart\n",
    "# ─────────────────────────────────────────────────────────────────────────────\n",
    "import pandas as pd\n",
    "import matplotlib.pyplot as plt\n",
    "\n",
    "# build count table\n",
    "split_counts = pd.DataFrame({\n",
    "    'train': train_df['label'].value_counts(normalize=True),\n",
    "    'val':   val_df  ['label'].value_counts(normalize=True),\n",
    "    'test':  test_df ['label'].value_counts(normalize=True),\n",
    "})\n",
    "\n",
    "# transpose so splits are on the x‐axis\n",
    "split_counts = split_counts.T\n",
    "\n",
    "# choose a simple color palette (you can tweak hex codes as you like)\n",
    "colors = ['#4c72b0', '#dd8452', '#55a868']\n",
    "\n",
    "fig, ax = plt.subplots(figsize=(6,4))\n",
    "split_counts.plot(\n",
    "    kind='bar',\n",
    "    stacked=True,\n",
    "    color=colors,\n",
    "    ax=ax\n",
    ")\n",
    "\n",
    "ax.set_title(\"Class Proportion by Split\")\n",
    "ax.set_xlabel(\"Dataset Split\")\n",
    "ax.set_ylabel(\"Proportion of samples\")\n",
    "ax.legend(title=\"Class\", loc=\"upper right\", bbox_to_anchor=(1.3, 1))\n",
    "\n",
    "# annotate percentages on each bar segment\n",
    "for i, split in enumerate(split_counts.index):\n",
    "    cum = 0\n",
    "    for j, cls in enumerate(split_counts.columns):\n",
    "        val = split_counts.loc[split, cls]\n",
    "        ax.text(\n",
    "            i,                              # x position (bar)\n",
    "            cum + val / 2,                  # y position (middle of segment)\n",
    "            f\"{val:.0%}\",                   # label, e.g. “33%”\n",
    "            ha='center', va='center',\n",
    "            color='white' if val > 0.1 else 'black',\n",
    "            fontsize= nine\n",
    "        )\n",
    "        cum += val\n",
    "\n",
    "fig.tight_layout()\n",
    "plt.show()\n",
    "# optionally save:\n",
    "# fig.savefig(config['paths']['figures_dir'] + \"split_class_proportions.png\", dpi=150)\n"
   ]
  }
 ],
 "metadata": {
  "kernelspec": {
   "display_name": "MyProject (Conda)",
   "language": "python",
   "name": "myproject"
  },
  "language_info": {
   "codemirror_mode": {
    "name": "ipython",
    "version": 3
   },
   "file_extension": ".py",
   "mimetype": "text/x-python",
   "name": "python",
   "nbconvert_exporter": "python",
   "pygments_lexer": "ipython3",
   "version": "3.9.21"
  }
 },
 "nbformat": 4,
 "nbformat_minor": 2
}
