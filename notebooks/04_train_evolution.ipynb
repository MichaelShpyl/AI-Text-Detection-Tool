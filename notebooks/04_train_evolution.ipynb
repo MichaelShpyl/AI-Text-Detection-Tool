{
 "cells": [
  {
   "cell_type": "markdown",
   "metadata": {},
   "source": [
    "# Model Training (BERT → RoBERTa Evolution)\n",
    "\n",
    "In this notebook, I fine‑tune transformer models on my dataset. I start with **BERT‑base**, then **RoBERTa‑base**, comparing validation performance to select a final model. I also prepare for class imbalance handling and logging.\n"
   ]
  },
  {
   "cell_type": "code",
   "execution_count": 1,
   "metadata": {},
   "outputs": [
    {
     "name": "stdout",
     "output_type": "stream",
     "text": [
      "new cwd: c:\\Testing\\Final_Year_Project\\AI-Text-Detection-Tool\n"
     ]
    }
   ],
   "source": [
    "# move up one level so that works\n",
    "import os\n",
    "os.chdir(os.path.abspath(os.path.join(os.getcwd(), \"..\")))\n",
    "print(\"new cwd:\", os.getcwd())\n"
   ]
  },
  {
   "cell_type": "code",
   "execution_count": 2,
   "metadata": {},
   "outputs": [
    {
     "name": "stdout",
     "output_type": "stream",
     "text": [
      "Data sizes → Train: 309520, Val: 38690, Test: 38691\n",
      "Class weights: [1.0000032308194327, 1.0000032308194327, 0.999993538423763]\n"
     ]
    }
   ],
   "source": [
    "import torch\n",
    "import numpy as np\n",
    "import logging\n",
    "import yaml\n",
    "import pandas as pd\n",
    "from transformers import TrainingArguments, EarlyStoppingCallback\n",
    "from utils import model_utils\n",
    "\n",
    "# Load configuration\n",
    "with open(\"config.yaml\", \"r\") as f:\n",
    "    config = yaml.safe_load(f)\n",
    "\n",
    "# Load splits\n",
    "train_df = pd.read_parquet(config['paths']['train_data'])\n",
    "val_df   = pd.read_parquet(config['paths']['val_data'])\n",
    "test_df  = pd.read_parquet(config['paths']['test_data'])\n",
    "print(f\"Data sizes → Train: {len(train_df)}, Val: {len(val_df)}, Test: {len(test_df)}\")\n",
    "\n",
    "# Set up logging to file\n",
    "logging.basicConfig(\n",
    "    filename=config['paths']['log_file'],\n",
    "    level=logging.INFO,\n",
    "    format=\"%(asctime)s %(levelname)s: %(message)s\"\n",
    ")\n",
    "logging.info(\"Started training pipeline (BERT → RoBERTa)\")\n",
    "\n",
    "# Compute class weights for loss\n",
    "labels, counts = np.unique(train_df['label'], return_counts=True)\n",
    "class_weights = (1.0 / counts) * np.mean(counts)\n",
    "# Map to [0,1,2] order\n",
    "weight_list = [0]*len(class_weights)\n",
    "for lab, wt in zip(labels, class_weights):\n",
    "    idx = config['model']['label_mapping'][lab]\n",
    "    weight_list[idx] = float(wt)\n",
    "print(\"Class weights:\", weight_list)\n"
   ]
  },
  {
   "cell_type": "code",
   "execution_count": 3,
   "metadata": {},
   "outputs": [
    {
     "data": {
      "image/png": "[encoded data removed]",
      "text/plain": [
       "<Figure size 600x400 with 1 Axes>"
      ]
     },
     "metadata": {},
     "output_type": "display_data"
    }
   ],
   "source": [
    "# ─────────────────────────────────────────────────────────────────────────────\n",
    "# Visualize class breakdown per split as a stacked bar chart\n",
    "# ─────────────────────────────────────────────────────────────────────────────\n",
    "import pandas as pd\n",
    "import matplotlib.pyplot as plt\n",
    "\n",
    "# build count table\n",
    "split_counts = pd.DataFrame({\n",
    "    'train': train_df['label'].value_counts(normalize=True),\n",
    "    'val':   val_df  ['label'].value_counts(normalize=True),\n",
    "    'test':  test_df ['label'].value_counts(normalize=True),\n",
    "})\n",
    "\n",
    "# transpose so splits are on the x‐axis\n",
    "split_counts = split_counts.T\n",
    "\n",
    "# choose a simple color palette (you can tweak hex codes as you like)\n",
    "colors = ['#4c72b0', '#dd8452', '#55a868']\n",
    "\n",
    "fig, ax = plt.subplots(figsize=(6,4))\n",
    "split_counts.plot(\n",
    "    kind='bar',\n",
    "    stacked=True,\n",
    "    color=colors,\n",
    "    ax=ax\n",
    ")\n",
    "\n",
    "ax.set_title(\"Class Proportion by Split\")\n",
    "ax.set_xlabel(\"Dataset Split\")\n",
    "ax.set_ylabel(\"Proportion of samples\")\n",
    "ax.legend(title=\"Class\", loc=\"upper right\", bbox_to_anchor=(1.3, 1))\n",
    "\n",
    "# annotate percentages on each bar segment\n",
    "for i, split in enumerate(split_counts.index):\n",
    "    cum = 0\n",
    "    for j, cls in enumerate(split_counts.columns):\n",
    "        val = split_counts.loc[split, cls]\n",
    "        ax.text(\n",
    "            i,                              # x position (bar)\n",
    "            cum + val / 2,                  # y position (middle of segment)\n",
    "            f\"{val:.0%}\",                   # label, e.g. “33%”\n",
    "            ha='center', va='center',\n",
    "            color='white' if val > 0.1 else 'black',\n",
    "            fontsize= 9\n",
    "        )\n",
    "        cum += val\n",
    "\n",
    "fig.tight_layout()\n",
    "plt.show()\n",
    "# optionally save:\n",
    "# fig.savefig(config['paths']['figures_dir'] + \"split_class_proportions.png\", dpi=150)\n"
   ]
  },
  {
   "cell_type": "markdown",
   "metadata": {},
   "source": [
    "## Fine‑tune BERT‑base\n",
    "\n",
    "I start by fine‑tuning `bert-base-uncased` for 3 epochs (per `config.yaml`), using my `CustomTrainer` with weighted cross‑entropy or focal loss as configured.\n"
   ]
  },
  {
   "cell_type": "code",
   "execution_count": 4,
   "metadata": {},
   "outputs": [
    {
     "name": "stdout",
     "output_type": "stream",
     "text": [
      "🖥️  GPU available: NVIDIA GeForce RTX 4060 Laptop GPU\n",
      "   • CUDA devices: 1\n",
      "   • Current CUDA device index: 0\n",
      "   • Allocated: 0.00 GB\n",
      "   • Cached:    0.00 GB\n"
     ]
    }
   ],
   "source": [
    "# ── Device Check ────────────────────────────────────────────────────────────\n",
    "import torch  # PyTorch core library\n",
    "\n",
    "# Report whether I have CUDA (GPU) available or are falling back to CPU\n",
    "if torch.cuda.is_available():\n",
    "    print(\"🖥️  GPU available:\", torch.cuda.get_device_name(0))\n",
    "    print(\"   • CUDA devices:\", torch.cuda.device_count())\n",
    "    print(\"   • Current CUDA device index:\", torch.cuda.current_device())\n",
    "    # Optional: memory stats\n",
    "    print(f\"   • Allocated: {torch.cuda.memory_allocated() / 1e9:.2f} GB\")\n",
    "    print(f\"   • Cached:    {torch.cuda.memory_reserved() / 1e9:.2f} GB\")\n",
    "else:\n",
    "    print(\"🖥️  No GPU detected; using CPU.\")\n"
   ]
  },
  {
   "cell_type": "code",
   "execution_count": 5,
   "metadata": {},
   "outputs": [
    {
     "name": "stdout",
     "output_type": "stream",
     "text": [
      "✔️ Using preferred GPU → NVIDIA GeForce RTX 4060 Laptop GPU (cuda:0)\n",
      "Data sizes → train: 309520, val: 38690\n",
      "Class weights: [1.0000032308194327, 1.0000032308194327, 0.999993538423763]\n"
     ]
    },
    {
     "name": "stderr",
     "output_type": "stream",
     "text": [
      "c:\\Users\\micha\\.conda\\envs\\myenv\\lib\\site-packages\\transformers\\training_args.py:1611: FutureWarning: `evaluation_strategy` is deprecated and will be removed in version 4.46 of 🤗 Transformers. Use `eval_strategy` instead\n",
      "  warnings.warn(\n"
     ]
    },
    {
     "name": "stdout",
     "output_type": "stream",
     "text": [
      "CPU:   7.5%   RAM:  81.0%\n",
      "GPU: NVIDIA GeForce RTX 4060 Laptop GPU | Used: 0.44 GB / 8.59 GB\n",
      "------------------------------------------------------------\n",
      "⏳ Starting trainer.train() …\n",
      "{'loss': 0.6751, 'grad_norm': 12.184558868408203, 'learning_rate': 1.9913845093478074e-05, 'epoch': 0.012923235978288964}\n",
      "{'loss': 0.4652, 'grad_norm': 6.435728549957275, 'learning_rate': 1.982769018695615e-05, 'epoch': 0.025846471956577927}\n",
      "{'loss': 0.4181, 'grad_norm': 6.355397701263428, 'learning_rate': 1.9741535280434225e-05, 'epoch': 0.03876970793486689}\n",
      "{'loss': 0.3739, 'grad_norm': 3.1495249271392822, 'learning_rate': 1.9655380373912297e-05, 'epoch': 0.051692943913155855}\n",
      "{'loss': 0.3562, 'grad_norm': 19.24005699157715, 'learning_rate': 1.956922546739037e-05, 'epoch': 0.06461617989144482}\n",
      "{'loss': 0.3337, 'grad_norm': 3.481600284576416, 'learning_rate': 1.948307056086844e-05, 'epoch': 0.07753941586973379}\n",
      "{'loss': 0.3362, 'grad_norm': 6.34691047668457, 'learning_rate': 1.9396915654346516e-05, 'epoch': 0.09046265184802274}\n",
      "{'loss': 0.3438, 'grad_norm': 6.86762809753418, 'learning_rate': 1.931076074782459e-05, 'epoch': 0.10338588782631171}\n",
      "{'loss': 0.3418, 'grad_norm': 2.707477331161499, 'learning_rate': 1.9224605841302664e-05, 'epoch': 0.11630912380460068}\n",
      "{'loss': 0.3303, 'grad_norm': 6.4294352531433105, 'learning_rate': 1.9138450934780736e-05, 'epoch': 0.12923235978288963}\n",
      "{'loss': 0.3174, 'grad_norm': 4.438650131225586, 'learning_rate': 1.905229602825881e-05, 'epoch': 0.1421555957611786}\n",
      "{'loss': 0.3273, 'grad_norm': 2.4184181690216064, 'learning_rate': 1.8966141121736886e-05, 'epoch': 0.15507883173946757}\n",
      "{'loss': 0.2921, 'grad_norm': 3.8520820140838623, 'learning_rate': 1.887998621521496e-05, 'epoch': 0.16800206771775653}\n",
      "{'loss': 0.3153, 'grad_norm': 7.647615909576416, 'learning_rate': 1.879383130869303e-05, 'epoch': 0.18092530369604548}\n",
      "{'loss': 0.2916, 'grad_norm': 2.3443984985351562, 'learning_rate': 1.8707676402171106e-05, 'epoch': 0.19384853967433446}\n",
      "{'loss': 0.3009, 'grad_norm': 5.050531387329102, 'learning_rate': 1.8621521495649178e-05, 'epoch': 0.20677177565262342}\n",
      "{'loss': 0.2738, 'grad_norm': 5.622109889984131, 'learning_rate': 1.8535366589127253e-05, 'epoch': 0.21969501163091237}\n",
      "{'loss': 0.2838, 'grad_norm': 3.160726547241211, 'learning_rate': 1.8449211682605325e-05, 'epoch': 0.23261824760920136}\n",
      "{'loss': 0.2917, 'grad_norm': 2.3261356353759766, 'learning_rate': 1.8363056776083397e-05, 'epoch': 0.2455414835874903}\n",
      "{'loss': 0.2862, 'grad_norm': 7.044527053833008, 'learning_rate': 1.8276901869561473e-05, 'epoch': 0.25846471956577927}\n",
      "{'loss': 0.2839, 'grad_norm': 6.730479717254639, 'learning_rate': 1.819074696303955e-05, 'epoch': 0.27138795554406825}\n",
      "{'loss': 0.2781, 'grad_norm': 7.370373249053955, 'learning_rate': 1.810459205651762e-05, 'epoch': 0.2843111915223572}\n",
      "{'loss': 0.2876, 'grad_norm': 3.58297061920166, 'learning_rate': 1.8018437149995692e-05, 'epoch': 0.29723442750064616}\n",
      "{'loss': 0.2741, 'grad_norm': 14.694893836975098, 'learning_rate': 1.7932282243473768e-05, 'epoch': 0.31015766347893514}\n",
      "{'loss': 0.2747, 'grad_norm': 10.769925117492676, 'learning_rate': 1.7846127336951843e-05, 'epoch': 0.32308089945722407}\n",
      "{'loss': 0.2816, 'grad_norm': 11.57612133026123, 'learning_rate': 1.7759972430429915e-05, 'epoch': 0.33600413543551305}\n",
      "{'loss': 0.2624, 'grad_norm': 15.075637817382812, 'learning_rate': 1.7673817523907987e-05, 'epoch': 0.34892737141380203}\n",
      "{'loss': 0.2624, 'grad_norm': 6.571269512176514, 'learning_rate': 1.758766261738606e-05, 'epoch': 0.36185060739209096}\n",
      "{'loss': 0.2649, 'grad_norm': 5.204372882843018, 'learning_rate': 1.7501507710864135e-05, 'epoch': 0.37477384337037994}\n",
      "{'loss': 0.2819, 'grad_norm': 11.949258804321289, 'learning_rate': 1.741535280434221e-05, 'epoch': 0.3876970793486689}\n",
      "{'loss': 0.2653, 'grad_norm': 9.08554744720459, 'learning_rate': 1.7329197897820282e-05, 'epoch': 0.40062031532695785}\n",
      "{'loss': 0.28, 'grad_norm': 22.79106903076172, 'learning_rate': 1.7243042991298354e-05, 'epoch': 0.41354355130524684}\n",
      "{'loss': 0.2668, 'grad_norm': 1.7618885040283203, 'learning_rate': 1.715688808477643e-05, 'epoch': 0.4264667872835358}\n",
      "{'loss': 0.2728, 'grad_norm': 9.044376373291016, 'learning_rate': 1.7070733178254505e-05, 'epoch': 0.43939002326182475}\n",
      "{'loss': 0.2715, 'grad_norm': 9.6864013671875, 'learning_rate': 1.6984578271732577e-05, 'epoch': 0.45231325924011373}\n",
      "{'loss': 0.2729, 'grad_norm': 8.380631446838379, 'learning_rate': 1.689842336521065e-05, 'epoch': 0.4652364952184027}\n",
      "{'loss': 0.2738, 'grad_norm': 3.9741954803466797, 'learning_rate': 1.6812268458688725e-05, 'epoch': 0.47815973119669164}\n",
      "{'loss': 0.2815, 'grad_norm': 6.568838119506836, 'learning_rate': 1.6726113552166797e-05, 'epoch': 0.4910829671749806}\n",
      "{'loss': 0.2665, 'grad_norm': 5.6145782470703125, 'learning_rate': 1.6639958645644872e-05, 'epoch': 0.5040062031532696}\n",
      "{'loss': 0.2639, 'grad_norm': 3.7026398181915283, 'learning_rate': 1.6553803739122944e-05, 'epoch': 0.5169294391315585}\n",
      "{'loss': 0.2457, 'grad_norm': 2.0177266597747803, 'learning_rate': 1.6467648832601016e-05, 'epoch': 0.5298526751098475}\n",
      "{'loss': 0.2584, 'grad_norm': 5.81569766998291, 'learning_rate': 1.638149392607909e-05, 'epoch': 0.5427759110881365}\n",
      "{'loss': 0.2553, 'grad_norm': 5.096862316131592, 'learning_rate': 1.6295339019557167e-05, 'epoch': 0.5556991470664254}\n",
      "{'loss': 0.2532, 'grad_norm': 5.301826000213623, 'learning_rate': 1.620918411303524e-05, 'epoch': 0.5686223830447144}\n",
      "{'loss': 0.2546, 'grad_norm': 1.3003100156784058, 'learning_rate': 1.612302920651331e-05, 'epoch': 0.5815456190230034}\n",
      "{'loss': 0.2383, 'grad_norm': 16.550533294677734, 'learning_rate': 1.6036874299991387e-05, 'epoch': 0.5944688550012923}\n",
      "{'loss': 0.2663, 'grad_norm': 3.4082229137420654, 'learning_rate': 1.5950719393469462e-05, 'epoch': 0.6073920909795812}\n",
      "{'loss': 0.2593, 'grad_norm': 12.905584335327148, 'learning_rate': 1.5864564486947534e-05, 'epoch': 0.6203153269578703}\n",
      "{'loss': 0.2634, 'grad_norm': 18.214393615722656, 'learning_rate': 1.5778409580425606e-05, 'epoch': 0.6332385629361592}\n",
      "{'loss': 0.2474, 'grad_norm': 2.364790678024292, 'learning_rate': 1.5692254673903678e-05, 'epoch': 0.6461617989144481}\n",
      "{'loss': 0.2588, 'grad_norm': 5.587676048278809, 'learning_rate': 1.5606099767381754e-05, 'epoch': 0.6590850348927372}\n",
      "{'loss': 0.2648, 'grad_norm': 0.8807097673416138, 'learning_rate': 1.551994486085983e-05, 'epoch': 0.6720082708710261}\n",
      "{'loss': 0.2415, 'grad_norm': 9.947172164916992, 'learning_rate': 1.54337899543379e-05, 'epoch': 0.684931506849315}\n",
      "{'loss': 0.2436, 'grad_norm': 0.34054800868034363, 'learning_rate': 1.5347635047815973e-05, 'epoch': 0.6978547428276041}\n",
      "{'loss': 0.2525, 'grad_norm': 4.34541130065918, 'learning_rate': 1.526148014129405e-05, 'epoch': 0.710777978805893}\n",
      "{'loss': 0.2475, 'grad_norm': 3.3268496990203857, 'learning_rate': 1.5175325234772122e-05, 'epoch': 0.7237012147841819}\n",
      "{'loss': 0.2516, 'grad_norm': 5.398063659667969, 'learning_rate': 1.5089170328250196e-05, 'epoch': 0.736624450762471}\n",
      "{'loss': 0.2522, 'grad_norm': 0.8073326945304871, 'learning_rate': 1.5003015421728268e-05, 'epoch': 0.7495476867407599}\n",
      "{'loss': 0.246, 'grad_norm': 6.788999080657959, 'learning_rate': 1.4916860515206342e-05, 'epoch': 0.7624709227190488}\n",
      "{'loss': 0.2443, 'grad_norm': 6.851729869842529, 'learning_rate': 1.4830705608684415e-05, 'epoch': 0.7753941586973379}\n",
      "{'loss': 0.2495, 'grad_norm': 1.0630712509155273, 'learning_rate': 1.474455070216249e-05, 'epoch': 0.7883173946756268}\n",
      "{'loss': 0.2399, 'grad_norm': 6.460484027862549, 'learning_rate': 1.4658395795640563e-05, 'epoch': 0.8012406306539157}\n",
      "{'loss': 0.2572, 'grad_norm': 6.908089637756348, 'learning_rate': 1.4572240889118637e-05, 'epoch': 0.8141638666322047}\n",
      "{'loss': 0.2475, 'grad_norm': 3.826740026473999, 'learning_rate': 1.4486085982596709e-05, 'epoch': 0.8270871026104937}\n",
      "{'loss': 0.242, 'grad_norm': 2.8912975788116455, 'learning_rate': 1.4399931076074784e-05, 'epoch': 0.8400103385887826}\n",
      "{'loss': 0.2558, 'grad_norm': 8.49909496307373, 'learning_rate': 1.4313776169552858e-05, 'epoch': 0.8529335745670716}\n",
      "{'loss': 0.2237, 'grad_norm': 16.771385192871094, 'learning_rate': 1.422762126303093e-05, 'epoch': 0.8658568105453606}\n",
      "{'loss': 0.2477, 'grad_norm': 4.638957500457764, 'learning_rate': 1.4141466356509004e-05, 'epoch': 0.8787800465236495}\n",
      "{'loss': 0.2634, 'grad_norm': 6.05959415435791, 'learning_rate': 1.4055311449987077e-05, 'epoch': 0.8917032825019385}\n",
      "{'loss': 0.2411, 'grad_norm': 4.3286213874816895, 'learning_rate': 1.3969156543465153e-05, 'epoch': 0.9046265184802275}\n",
      "{'loss': 0.2546, 'grad_norm': 9.248021125793457, 'learning_rate': 1.3883001636943225e-05, 'epoch': 0.9175497544585164}\n",
      "{'loss': 0.2338, 'grad_norm': 4.111486434936523, 'learning_rate': 1.3796846730421299e-05, 'epoch': 0.9304729904368054}\n",
      "{'loss': 0.2519, 'grad_norm': 7.932967185974121, 'learning_rate': 1.371069182389937e-05, 'epoch': 0.9433962264150944}\n",
      "{'loss': 0.2412, 'grad_norm': 10.131109237670898, 'learning_rate': 1.3624536917377446e-05, 'epoch': 0.9563194623933833}\n",
      "{'loss': 0.22, 'grad_norm': 8.142133712768555, 'learning_rate': 1.353838201085552e-05, 'epoch': 0.9692426983716723}\n",
      "{'loss': 0.23, 'grad_norm': 17.675323486328125, 'learning_rate': 1.3452227104333594e-05, 'epoch': 0.9821659343499612}\n",
      "{'loss': 0.2536, 'grad_norm': 0.36218389868736267, 'learning_rate': 1.3366072197811666e-05, 'epoch': 0.9950891703282502}\n",
      "{'eval_loss': 0.22874490916728973, 'eval_accuracy': 0.9154820367019901, 'eval_f1': 0.9150964052591188, 'eval_runtime': 506.5753, 'eval_samples_per_second': 76.376, 'eval_steps_per_second': 4.775, 'epoch': 1.0}\n",
      "{'loss': 0.2214, 'grad_norm': 5.4186577796936035, 'learning_rate': 1.327991729128974e-05, 'epoch': 1.0080124063065392}\n",
      "{'loss': 0.2034, 'grad_norm': 3.746562957763672, 'learning_rate': 1.3193762384767815e-05, 'epoch': 1.0209356422848281}\n",
      "{'loss': 0.205, 'grad_norm': 5.404241561889648, 'learning_rate': 1.3107607478245887e-05, 'epoch': 1.033858878263117}\n",
      "{'loss': 0.2012, 'grad_norm': 6.232556343078613, 'learning_rate': 1.302145257172396e-05, 'epoch': 1.046782114241406}\n",
      "{'loss': 0.2025, 'grad_norm': 12.950078010559082, 'learning_rate': 1.2935297665202034e-05, 'epoch': 1.059705350219695}\n",
      "{'loss': 0.2154, 'grad_norm': 3.8914246559143066, 'learning_rate': 1.2849142758680108e-05, 'epoch': 1.072628586197984}\n",
      "{'loss': 0.2009, 'grad_norm': 11.455574989318848, 'learning_rate': 1.2762987852158182e-05, 'epoch': 1.085551822176273}\n",
      "{'loss': 0.2036, 'grad_norm': 5.282279968261719, 'learning_rate': 1.2676832945636255e-05, 'epoch': 1.098475058154562}\n",
      "{'loss': 0.2043, 'grad_norm': 0.7313770651817322, 'learning_rate': 1.2590678039114327e-05, 'epoch': 1.1113982941328509}\n",
      "{'loss': 0.1987, 'grad_norm': 15.137126922607422, 'learning_rate': 1.2504523132592403e-05, 'epoch': 1.1243215301111398}\n",
      "{'loss': 0.1908, 'grad_norm': 14.032855987548828, 'learning_rate': 1.2418368226070477e-05, 'epoch': 1.1372447660894287}\n",
      "{'loss': 0.2083, 'grad_norm': 2.317748546600342, 'learning_rate': 1.2332213319548549e-05, 'epoch': 1.1501680020677179}\n",
      "{'loss': 0.1823, 'grad_norm': 6.812184810638428, 'learning_rate': 1.2246058413026622e-05, 'epoch': 1.1630912380460068}\n",
      "{'loss': 0.1979, 'grad_norm': 0.9930015206336975, 'learning_rate': 1.2159903506504696e-05, 'epoch': 1.1760144740242957}\n",
      "{'loss': 0.2032, 'grad_norm': 8.834428787231445, 'learning_rate': 1.2073748599982772e-05, 'epoch': 1.1889377100025846}\n",
      "{'loss': 0.1883, 'grad_norm': 6.491714954376221, 'learning_rate': 1.1987593693460844e-05, 'epoch': 1.2018609459808736}\n",
      "{'loss': 0.1956, 'grad_norm': 1.417237401008606, 'learning_rate': 1.1901438786938917e-05, 'epoch': 1.2147841819591625}\n",
      "{'loss': 0.179, 'grad_norm': 9.94859504699707, 'learning_rate': 1.181528388041699e-05, 'epoch': 1.2277074179374514}\n",
      "{'loss': 0.1897, 'grad_norm': 12.435208320617676, 'learning_rate': 1.1729128973895065e-05, 'epoch': 1.2406306539157406}\n",
      "{'loss': 0.2078, 'grad_norm': 13.209046363830566, 'learning_rate': 1.1642974067373139e-05, 'epoch': 1.2535538898940295}\n",
      "{'loss': 0.1914, 'grad_norm': 10.49775218963623, 'learning_rate': 1.1556819160851212e-05, 'epoch': 1.2664771258723184}\n",
      "{'loss': 0.1968, 'grad_norm': 9.03569221496582, 'learning_rate': 1.1470664254329284e-05, 'epoch': 1.2794003618506073}\n",
      "{'loss': 0.2021, 'grad_norm': 7.640361785888672, 'learning_rate': 1.1384509347807358e-05, 'epoch': 1.2923235978288963}\n",
      "{'loss': 0.2004, 'grad_norm': 3.7026591300964355, 'learning_rate': 1.1298354441285433e-05, 'epoch': 1.3052468338071854}\n",
      "{'loss': 0.1983, 'grad_norm': 8.489011764526367, 'learning_rate': 1.1212199534763506e-05, 'epoch': 1.3181700697854744}\n",
      "{'loss': 0.1901, 'grad_norm': 0.5606158375740051, 'learning_rate': 1.112604462824158e-05, 'epoch': 1.3310933057637633}\n",
      "{'loss': 0.1864, 'grad_norm': 14.680021286010742, 'learning_rate': 1.1039889721719651e-05, 'epoch': 1.3440165417420522}\n",
      "{'loss': 0.1975, 'grad_norm': 10.9469575881958, 'learning_rate': 1.0953734815197727e-05, 'epoch': 1.3569397777203411}\n",
      "{'loss': 0.2105, 'grad_norm': 8.591601371765137, 'learning_rate': 1.08675799086758e-05, 'epoch': 1.36986301369863}\n",
      "{'loss': 0.1965, 'grad_norm': 4.6556396484375, 'learning_rate': 1.0781425002153874e-05, 'epoch': 1.382786249676919}\n",
      "{'loss': 0.2117, 'grad_norm': 13.646517753601074, 'learning_rate': 1.0695270095631946e-05, 'epoch': 1.3957094856552081}\n",
      "{'loss': 0.1941, 'grad_norm': 6.219468116760254, 'learning_rate': 1.060911518911002e-05, 'epoch': 1.408632721633497}\n",
      "{'loss': 0.2028, 'grad_norm': 0.3638759255409241, 'learning_rate': 1.0522960282588095e-05, 'epoch': 1.421555957611786}\n",
      "{'loss': 0.2042, 'grad_norm': 12.771842956542969, 'learning_rate': 1.0436805376066167e-05, 'epoch': 1.434479193590075}\n",
      "{'loss': 0.1927, 'grad_norm': 7.298154830932617, 'learning_rate': 1.0350650469544241e-05, 'epoch': 1.4474024295683638}\n",
      "{'loss': 0.188, 'grad_norm': 9.499245643615723, 'learning_rate': 1.0264495563022315e-05, 'epoch': 1.460325665546653}\n",
      "{'loss': 0.2008, 'grad_norm': 5.216103553771973, 'learning_rate': 1.017834065650039e-05, 'epoch': 1.473248901524942}\n",
      "{'loss': 0.2086, 'grad_norm': 3.708038330078125, 'learning_rate': 1.0092185749978462e-05, 'epoch': 1.4861721375032309}\n",
      "{'loss': 0.1832, 'grad_norm': 0.3616108298301697, 'learning_rate': 1.0006030843456536e-05, 'epoch': 1.4990953734815198}\n",
      "{'loss': 0.2, 'grad_norm': 0.8338373899459839, 'learning_rate': 9.919875936934608e-06, 'epoch': 1.5120186094598087}\n",
      "{'loss': 0.1965, 'grad_norm': 8.540262222290039, 'learning_rate': 9.833721030412684e-06, 'epoch': 1.5249418454380979}\n",
      "{'loss': 0.1883, 'grad_norm': 7.280529022216797, 'learning_rate': 9.747566123890756e-06, 'epoch': 1.5378650814163866}\n",
      "{'loss': 0.2051, 'grad_norm': 9.97177791595459, 'learning_rate': 9.66141121736883e-06, 'epoch': 1.5507883173946757}\n",
      "{'loss': 0.2, 'grad_norm': 1.3662587404251099, 'learning_rate': 9.575256310846903e-06, 'epoch': 1.5637115533729646}\n",
      "{'loss': 0.1986, 'grad_norm': 22.95154571533203, 'learning_rate': 9.489101404324977e-06, 'epoch': 1.5766347893512536}\n",
      "{'loss': 0.2024, 'grad_norm': 0.4995168447494507, 'learning_rate': 9.40294649780305e-06, 'epoch': 1.5895580253295425}\n",
      "{'loss': 0.2024, 'grad_norm': 0.8000299334526062, 'learning_rate': 9.316791591281124e-06, 'epoch': 1.6024812613078314}\n",
      "{'loss': 0.2104, 'grad_norm': 11.631255149841309, 'learning_rate': 9.230636684759198e-06, 'epoch': 1.6154044972861206}\n",
      "{'loss': 0.1938, 'grad_norm': 2.1221401691436768, 'learning_rate': 9.144481778237272e-06, 'epoch': 1.6283277332644093}\n",
      "{'loss': 0.1884, 'grad_norm': 0.22844503819942474, 'learning_rate': 9.058326871715345e-06, 'epoch': 1.6412509692426984}\n",
      "{'loss': 0.2081, 'grad_norm': 4.195463180541992, 'learning_rate': 8.972171965193418e-06, 'epoch': 1.6541742052209873}\n",
      "{'loss': 0.1911, 'grad_norm': 5.268805980682373, 'learning_rate': 8.886017058671493e-06, 'epoch': 1.6670974411992763}\n",
      "{'loss': 0.1987, 'grad_norm': 3.8077616691589355, 'learning_rate': 8.799862152149565e-06, 'epoch': 1.6800206771775654}\n",
      "{'loss': 0.2055, 'grad_norm': 2.2626893520355225, 'learning_rate': 8.713707245627639e-06, 'epoch': 1.6929439131558541}\n",
      "{'loss': 0.2032, 'grad_norm': 0.22753332555294037, 'learning_rate': 8.627552339105712e-06, 'epoch': 1.7058671491341433}\n",
      "{'loss': 0.1992, 'grad_norm': 0.47050920128822327, 'learning_rate': 8.541397432583786e-06, 'epoch': 1.7187903851124322}\n",
      "{'loss': 0.1905, 'grad_norm': 11.285271644592285, 'learning_rate': 8.45524252606186e-06, 'epoch': 1.7317136210907211}\n",
      "{'loss': 0.187, 'grad_norm': 4.512368679046631, 'learning_rate': 8.369087619539934e-06, 'epoch': 1.74463685706901}\n",
      "{'loss': 0.196, 'grad_norm': 0.8527282476425171, 'learning_rate': 8.282932713018007e-06, 'epoch': 1.757560093047299}\n",
      "{'loss': 0.2055, 'grad_norm': 3.015063524246216, 'learning_rate': 8.19677780649608e-06, 'epoch': 1.7704833290255881}\n",
      "{'loss': 0.1881, 'grad_norm': 2.1039979457855225, 'learning_rate': 8.110622899974155e-06, 'epoch': 1.7834065650038768}\n",
      "{'loss': 0.1851, 'grad_norm': 7.6821184158325195, 'learning_rate': 8.024467993452227e-06, 'epoch': 1.796329800982166}\n",
      "{'loss': 0.1859, 'grad_norm': 4.8128342628479, 'learning_rate': 7.938313086930302e-06, 'epoch': 1.809253036960455}\n",
      "{'loss': 0.1835, 'grad_norm': 26.35439109802246, 'learning_rate': 7.852158180408374e-06, 'epoch': 1.8221762729387438}\n",
      "{'loss': 0.1889, 'grad_norm': 1.0099083185195923, 'learning_rate': 7.766003273886448e-06, 'epoch': 1.8350995089170328}\n",
      "{'loss': 0.209, 'grad_norm': 6.777827739715576, 'learning_rate': 7.679848367364522e-06, 'epoch': 1.8480227448953217}\n",
      "{'loss': 0.2012, 'grad_norm': 9.463371276855469, 'learning_rate': 7.593693460842596e-06, 'epoch': 1.8609459808736108}\n",
      "{'loss': 0.2037, 'grad_norm': 11.904932022094727, 'learning_rate': 7.507538554320669e-06, 'epoch': 1.8738692168518996}\n",
      "{'loss': 0.1998, 'grad_norm': 7.217942714691162, 'learning_rate': 7.421383647798742e-06, 'epoch': 1.8867924528301887}\n",
      "{'loss': 0.193, 'grad_norm': 6.748416423797607, 'learning_rate': 7.335228741276817e-06, 'epoch': 1.8997156888084776}\n",
      "{'loss': 0.1822, 'grad_norm': 5.354523181915283, 'learning_rate': 7.24907383475489e-06, 'epoch': 1.9126389247867666}\n",
      "{'loss': 0.1835, 'grad_norm': 0.1318240463733673, 'learning_rate': 7.162918928232963e-06, 'epoch': 1.9255621607650557}\n",
      "{'loss': 0.1725, 'grad_norm': 0.7374141812324524, 'learning_rate': 7.076764021711037e-06, 'epoch': 1.9384853967433444}\n",
      "{'loss': 0.1877, 'grad_norm': 10.063443183898926, 'learning_rate': 6.990609115189111e-06, 'epoch': 1.9514086327216336}\n",
      "{'loss': 0.1938, 'grad_norm': 13.740924835205078, 'learning_rate': 6.904454208667184e-06, 'epoch': 1.9643318686999225}\n",
      "{'loss': 0.1845, 'grad_norm': 10.446634292602539, 'learning_rate': 6.818299302145258e-06, 'epoch': 1.9772551046782114}\n",
      "{'loss': 0.2039, 'grad_norm': 11.135940551757812, 'learning_rate': 6.732144395623331e-06, 'epoch': 1.9901783406565003}\n",
      "{'eval_loss': 0.30707886815071106, 'eval_accuracy': 0.8967174980615146, 'eval_f1': 0.8963955742281492, 'eval_runtime': 516.6225, 'eval_samples_per_second': 74.89, 'eval_steps_per_second': 4.682, 'epoch': 2.0}\n",
      "{'train_runtime': 28904.4685, 'train_samples_per_second': 32.125, 'train_steps_per_second': 2.008, 'train_loss': 0.23879013603804, 'epoch': 2.0}\n",
      "✅ Finished in 481.78 min\n",
      "CPU:   7.8%   RAM:  82.0%\n",
      "GPU: NVIDIA GeForce RTX 4060 Laptop GPU | Used: 1.33 GB / 8.59 GB\n",
      "------------------------------------------------------------\n",
      "{'eval_loss': 0.22874490916728973, 'eval_accuracy': 0.9154820367019901, 'eval_f1': 0.9150964052591188, 'eval_runtime': 515.2243, 'eval_samples_per_second': 75.094, 'eval_steps_per_second': 4.695, 'epoch': 2.0}\n",
      "📝 Validation metrics: {'eval_loss': 0.22874490916728973, 'eval_accuracy': 0.9154820367019901, 'eval_f1': 0.9150964052591188, 'eval_runtime': 515.2243, 'eval_samples_per_second': 75.094, 'eval_steps_per_second': 4.695, 'epoch': 2.0}\n"
     ]
    }
   ],
   "source": [
    "# ── Full BERT Fine‑Tuning Pipeline (Prefer RTX 4060) ─────────────────────────\n",
    "\n",
    "import os\n",
    "import time\n",
    "import logging\n",
    "import yaml                          # for reading config.yaml\n",
    "import psutil                        # for CPU & RAM usage\n",
    "import pandas as pd                 # DataFrame I/O\n",
    "import numpy as np                  # numeric ops\n",
    "import torch                        # PyTorch core\n",
    "from torch.utils.data import Dataset\n",
    "from transformers import (\n",
    "    TrainingArguments,\n",
    "    EarlyStoppingCallback,\n",
    "    logging as hf_logging\n",
    ")\n",
    "from utils import model_utils       # your wrappers around HF tokenizers/models/metrics\n",
    "\n",
    "# ─ Silence all non‑error HF logs ─────────────────────────────────────────────\n",
    "hf_logging.set_verbosity_error()\n",
    "\n",
    "def show_resources():\n",
    "    \"\"\"Print current CPU%, RAM%, and (if GPU) GPU memory usage.\"\"\"\n",
    "    cpu_pct = psutil.cpu_percent(interval=0.5)\n",
    "    ram_pct = psutil.virtual_memory().percent\n",
    "    print(f\"CPU: {cpu_pct:5.1f}%   RAM: {ram_pct:5.1f}%\")\n",
    "    if torch.cuda.is_available():\n",
    "        props    = torch.cuda.get_device_properties(0)\n",
    "        total_gb = props.total_memory / 1e9\n",
    "        used_gb  = torch.cuda.memory_allocated(0) / 1e9\n",
    "        print(f\"GPU: {props.name} | Used: {used_gb:.2f} GB / {total_gb:.2f} GB\")\n",
    "    print(\"-\" * 60)\n",
    "\n",
    "# ── 1️⃣ Device selection: prefer an RTX 4060, else any CUDA GPU, else CPU ───\n",
    "if torch.cuda.is_available():\n",
    "    devices = [(i, torch.cuda.get_device_name(i)) for i in range(torch.cuda.device_count())]\n",
    "    # look for “RTX 4060” in any device name:\n",
    "    idx_4060 = next((i for i, name in devices if \"RTX 4060\" in name), None)\n",
    "    if idx_4060 is not None:\n",
    "        device = torch.device(f\"cuda:{idx_4060}\")\n",
    "        print(f\"✔️ Using preferred GPU → {devices[idx_4060][1]} (cuda:{idx_4060})\")\n",
    "    else:\n",
    "        # no 4060 found, pick the first GPU\n",
    "        idx0, name0 = devices[0]\n",
    "        device = torch.device(f\"cuda:{idx0}\")\n",
    "        print(f\"ℹ️ RTX 4060 not found, using GPU → {name0} (cuda:{idx0})\")\n",
    "else:\n",
    "    device = torch.device(\"cpu\")\n",
    "    print(\"⚠️ No CUDA GPU detected — falling back to CPU\")\n",
    "\n",
    "# ── 2️⃣ Load config & data splits ─────────────────────────────────────────────\n",
    "with open(\"config.yaml\", \"r\") as f:\n",
    "    config = yaml.safe_load(f)\n",
    "\n",
    "train_df = pd.read_parquet(config['paths']['train_data'])\n",
    "val_df   = pd.read_parquet(config['paths']['val_data'])\n",
    "print(f\"Data sizes → train: {len(train_df)}, val: {len(val_df)}\")\n",
    "\n",
    "# ── 3️⃣ Compute class weights (for weighted CE / focal loss) ────────────────\n",
    "labels, counts = np.unique(train_df['label'], return_counts=True)\n",
    "inv_freq       = (1.0 / counts) * np.mean(counts)\n",
    "weight_list    = [0.0] * len(inv_freq)\n",
    "for lab, w in zip(labels, inv_freq):\n",
    "    idx = config['model']['label_mapping'][lab]\n",
    "    weight_list[idx] = float(w)\n",
    "print(\"Class weights:\", weight_list)\n",
    "\n",
    "# ── 4️⃣ Initialize tokenizer & model, send to device ────────────────────────\n",
    "tokenizer = model_utils.get_tokenizer(\"bert\")\n",
    "model     = model_utils.get_model(\"bert\", num_labels=3).to(device)\n",
    "\n",
    "# ── 5️⃣ Tokenize all texts (pad+truncate to max_length) ──────────────────────\n",
    "max_len   = config['training']['max_length']['bert_roberta']\n",
    "train_enc = tokenizer(\n",
    "    train_df['text'].tolist(),\n",
    "    padding=True,\n",
    "    truncation=True,\n",
    "    max_length=max_len\n",
    ")\n",
    "val_enc   = tokenizer(\n",
    "    val_df['text'].tolist(),\n",
    "    padding=True,\n",
    "    truncation=True,\n",
    "    max_length=max_len\n",
    ")\n",
    "\n",
    "# ── 6️⃣ Wrap tokenized data in a minimal Dataset (CPU side) ─────────────────\n",
    "class TextDataset(Dataset):\n",
    "    def __init__(self, encodings, labels):\n",
    "        self.encodings = encodings\n",
    "        self.labels    = labels\n",
    "\n",
    "    def __len__(self):\n",
    "        return len(self.labels)\n",
    "\n",
    "    def __getitem__(self, idx):\n",
    "        item = {k: torch.tensor(v[idx]) for k,v in self.encodings.items()}\n",
    "        item['labels'] = torch.tensor(self.labels[idx])\n",
    "        return item\n",
    "\n",
    "train_labels   = [config['model']['label_mapping'][l] for l in train_df['label']]\n",
    "val_labels     = [config['model']['label_mapping'][l] for l in val_df['label']]\n",
    "train_dataset  = TextDataset(train_enc, train_labels)\n",
    "val_dataset    = TextDataset(val_enc,   val_labels)\n",
    "\n",
    "# ── 7️⃣ Configure TrainingArguments ─────────────────────────────────────────\n",
    "training_args = TrainingArguments(\n",
    "    output_dir                  = config['paths']['model_dirs']['bert'],\n",
    "    num_train_epochs            = int(config['training']['epochs']['bert']),\n",
    "    per_device_train_batch_size = int(config['training']['batch_size']['bert']),\n",
    "    per_device_eval_batch_size  = int(config['training']['batch_size']['bert']),\n",
    "    learning_rate               = float(config['training']['learning_rate']),\n",
    "\n",
    "    evaluation_strategy         = \"epoch\",\n",
    "    save_strategy               = \"epoch\",\n",
    "    load_best_model_at_end      = True,\n",
    "    metric_for_best_model       = \"f1\",\n",
    "\n",
    "    logging_strategy            = \"steps\",\n",
    "    logging_steps               = 250,\n",
    "    report_to                   = \"none\",\n",
    "    dataloader_pin_memory       = False   # avoid pin_memory errors\n",
    ")\n",
    "\n",
    "# ── 8️⃣ Instantiate CustomTrainer w/ early stopping & focal/weighted loss ──\n",
    "trainer = model_utils.CustomTrainer(\n",
    "    model           = model,\n",
    "    args            = training_args,\n",
    "    train_dataset   = train_dataset,\n",
    "    eval_dataset    = val_dataset,\n",
    "    compute_metrics = model_utils.compute_metrics,\n",
    "    callbacks       = [\n",
    "        EarlyStoppingCallback(\n",
    "            early_stopping_patience=int(config['training']['early_stopping_patience'])\n",
    "        )\n",
    "    ],\n",
    "    use_focal       = bool(config['training']['use_focal_loss']),\n",
    "    alpha           = weight_list\n",
    ")\n",
    "\n",
    "# ── 9️⃣ Run training, with resource printouts & elapsed time ────────────────\n",
    "show_resources()\n",
    "t0 = time.time()\n",
    "print(\"⏳ Starting trainer.train() …\")\n",
    "trainer.train()\n",
    "t1 = time.time()\n",
    "print(f\"✅ Finished in {(t1 - t0)/60:.2f} min\")\n",
    "show_resources()\n",
    "\n",
    "# 🔟 Final evaluation & logging ───────────────────────────────────────────────\n",
    "metrics = trainer.evaluate()\n",
    "print(\"📝 Validation metrics:\", metrics)\n",
    "logging.info(f\"BERT validation metrics → {metrics}\")\n"
   ]
  },
  {
   "cell_type": "markdown",
   "metadata": {},
   "source": [
    "### BERT Validation Results\n",
    "\n",
    "After fine‑tuning **BERT‑base**, I observe:\n",
    "\n",
    "- **Loss:** *`<insert bert_metrics['eval_loss'] here>`*  \n",
    "- **Accuracy:** *`<insert bert_metrics['eval_accuracy'] here>`*  \n",
    "- **Macro‑F1:** *`<insert bert_metrics['eval_f1'] here>`*\n",
    "\n",
    "These results provide our baseline before moving on to RoBERTa. I’ll compare these metrics directly in the next section.\n"
   ]
  },
  {
   "cell_type": "markdown",
   "metadata": {},
   "source": [
    "## Fine‑tune RoBERTa‑base\n",
    "\n",
    "Now I train `roberta-base` under the same conditions to see if it improves over BERT.\n"
   ]
  },
  {
   "cell_type": "code",
   "execution_count": 7,
   "metadata": {},
   "outputs": [],
   "source": [
    "# ── 1) Grab the BERT logging interval so we can reuse it ──────────────────────\n",
    "# (this cell should be **after** my BERT setup cell where you defined `training_args`)\n",
    "logging_steps = training_args.logging_steps\n"
   ]
  },
  {
   "cell_type": "code",
   "execution_count": null,
   "metadata": {},
   "outputs": [],
   "source": [
    "# ── 2) Prepare RoBERTa tokenizer & model ───────────────────────────────────\n",
    "from transformers import TrainingArguments, EarlyStoppingCallback\n",
    "from torch.utils.data import Dataset\n",
    "import time, logging\n",
    "\n",
    "# 2.1) Tokenizer + model (+ to same `device` you detected earlier)\n",
    "tokenizer_roberta = model_utils.get_tokenizer(\"roberta\")\n",
    "model_roberta     = model_utils.get_model(\"roberta\", num_labels=3).to(device)\n"
   ]
  },
  {
   "cell_type": "code",
   "execution_count": null,
   "metadata": {},
   "outputs": [],
   "source": [
    "# ── 3) (Re-)tokenize texts for RoBERTa ─────────────────────────────────────\n",
    "train_enc_roberta = tokenizer_roberta(\n",
    "    train_df['text'].tolist(),\n",
    "    padding=True, truncation=True,\n",
    "    max_length=config['training']['max_length']['bert_roberta']\n",
    ")\n",
    "val_enc_roberta = tokenizer_roberta(\n",
    "    val_df['text'].tolist(),\n",
    "    padding=True, truncation=True,\n",
    "    max_length=config['training']['max_length']['bert_roberta']\n",
    ")\n"
   ]
  },
  {
   "cell_type": "code",
   "execution_count": null,
   "metadata": {},
   "outputs": [],
   "source": [
    "# ── 4) Wrap into torch Datasets (reuse mine TextDataset class) ─────────────\n",
    "train_dataset_roberta = TextDataset(\n",
    "    train_enc_roberta,\n",
    "    [config['model']['label_mapping'][l] for l in train_df['label']]\n",
    ")\n",
    "val_dataset_roberta   = TextDataset(\n",
    "    val_enc_roberta,\n",
    "    [config['model']['label_mapping'][l] for l in val_df['label']]\n",
    ")\n"
   ]
  },
  {
   "cell_type": "code",
   "execution_count": null,
   "metadata": {},
   "outputs": [],
   "source": [
    "# ── 5) Define TrainingArguments for RoBERTa ─────────────────────────────────\n",
    "training_args_roberta = TrainingArguments(\n",
    "    output_dir                  = config['paths']['model_dirs']['roberta'],\n",
    "    num_train_epochs            = int(config['training']['epochs']['roberta']),\n",
    "    per_device_train_batch_size = int(config['training']['batch_size']['roberta']),\n",
    "    per_device_eval_batch_size  = int(config['training']['batch_size']['roberta']),\n",
    "    learning_rate               = float(config['training']['learning_rate']),\n",
    "\n",
    "    evaluation_strategy   = \"epoch\",\n",
    "    save_strategy         = \"epoch\",\n",
    "    load_best_model_at_end= True,\n",
    "    metric_for_best_model = \"f1\",\n",
    "\n",
    "    logging_strategy      = \"steps\",\n",
    "    logging_steps         = logging_steps,   # ← reuse from BERT cell\n",
    "    report_to             = \"none\",\n",
    "    dataloader_pin_memory = False\n",
    ")\n"
   ]
  },
  {
   "cell_type": "code",
   "execution_count": 6,
   "metadata": {},
   "outputs": [
    {
     "data": {
      "application/vnd.jupyter.widget-view+json": {
       "model_id": "99bc38e096134a258ea64a6ac184ceb6",
       "version_major": 2,
       "version_minor": 0
      },
      "text/plain": [
       "config.json:   0%|          | 0.00/481 [00:00<?, ?B/s]"
      ]
     },
     "metadata": {},
     "output_type": "display_data"
    },
    {
     "name": "stderr",
     "output_type": "stream",
     "text": [
      "c:\\Users\\micha\\.conda\\envs\\myenv\\lib\\site-packages\\huggingface_hub\\file_download.py:144: UserWarning: `huggingface_hub` cache-system uses symlinks by default to efficiently store duplicated files but your machine does not support them in C:\\Users\\micha\\.cache\\huggingface\\hub\\models--roberta-base. Caching files will still work but in a degraded version that might require more space on your disk. This warning can be disabled by setting the `HF_HUB_DISABLE_SYMLINKS_WARNING` environment variable. For more details, see https://huggingface.co/docs/huggingface_hub/how-to-cache#limitations.\n",
      "To support symlinks on Windows, you either need to activate Developer Mode or to run Python as an administrator. In order to activate developer mode, see this article: https://docs.microsoft.com/en-us/windows/apps/get-started/enable-your-device-for-development\n",
      "  warnings.warn(message)\n"
     ]
    },
    {
     "data": {
      "application/vnd.jupyter.widget-view+json": {
       "model_id": "2b2ed2f1fa5e4a3d8f93aaa5e95f0d0d",
       "version_major": 2,
       "version_minor": 0
      },
      "text/plain": [
       "tokenizer_config.json:   0%|          | 0.00/25.0 [00:00<?, ?B/s]"
      ]
     },
     "metadata": {},
     "output_type": "display_data"
    },
    {
     "data": {
      "application/vnd.jupyter.widget-view+json": {
       "model_id": "297b7bfd4cd74e4c871855ee378049e1",
       "version_major": 2,
       "version_minor": 0
      },
      "text/plain": [
       "vocab.json:   0%|          | 0.00/899k [00:00<?, ?B/s]"
      ]
     },
     "metadata": {},
     "output_type": "display_data"
    },
    {
     "data": {
      "application/vnd.jupyter.widget-view+json": {
       "model_id": "291ef7adad4e46ec912163de604526df",
       "version_major": 2,
       "version_minor": 0
      },
      "text/plain": [
       "merges.txt:   0%|          | 0.00/456k [00:00<?, ?B/s]"
      ]
     },
     "metadata": {},
     "output_type": "display_data"
    },
    {
     "data": {
      "application/vnd.jupyter.widget-view+json": {
       "model_id": "15485a6434a3485a8778ac22437c8701",
       "version_major": 2,
       "version_minor": 0
      },
      "text/plain": [
       "tokenizer.json:   0%|          | 0.00/1.36M [00:00<?, ?B/s]"
      ]
     },
     "metadata": {},
     "output_type": "display_data"
    },
    {
     "name": "stderr",
     "output_type": "stream",
     "text": [
      "Xet Storage is enabled for this repo, but the 'hf_xet' package is not installed. Falling back to regular HTTP download. For better performance, install the package with: `pip install huggingface_hub[hf_xet]` or `pip install hf_xet`\n"
     ]
    },
    {
     "data": {
      "application/vnd.jupyter.widget-view+json": {
       "model_id": "600d006eab41400ea1f5a755ae294e18",
       "version_major": 2,
       "version_minor": 0
      },
      "text/plain": [
       "model.safetensors:   0%|          | 0.00/499M [00:00<?, ?B/s]"
      ]
     },
     "metadata": {},
     "output_type": "display_data"
    },
    {
     "ename": "NameError",
     "evalue": "name 'logging_steps' is not defined",
     "output_type": "error",
     "traceback": [
      "\u001b[1;31m---------------------------------------------------------------------------\u001b[0m",
      "\u001b[1;31mNameError\u001b[0m                                 Traceback (most recent call last)",
      "Cell \u001b[1;32mIn[6], line 39\u001b[0m\n\u001b[0;32m     23\u001b[0m val_dataset_roberta   \u001b[38;5;241m=\u001b[39m TextDataset(val_enc_roberta,\n\u001b[0;32m     24\u001b[0m                                     [config[\u001b[38;5;124m'\u001b[39m\u001b[38;5;124mmodel\u001b[39m\u001b[38;5;124m'\u001b[39m][\u001b[38;5;124m'\u001b[39m\u001b[38;5;124mlabel_mapping\u001b[39m\u001b[38;5;124m'\u001b[39m][l] \u001b[38;5;28;01mfor\u001b[39;00m l \u001b[38;5;129;01min\u001b[39;00m val_df[\u001b[38;5;124m'\u001b[39m\u001b[38;5;124mlabel\u001b[39m\u001b[38;5;124m'\u001b[39m]])\n\u001b[0;32m     26\u001b[0m \u001b[38;5;66;03m# ── 4) Update & reuse TrainingArguments ────────────────────────────\u001b[39;00m\n\u001b[0;32m     27\u001b[0m \u001b[38;5;66;03m#    (point at new output dir, adjust epochs)\u001b[39;00m\n\u001b[0;32m     28\u001b[0m training_args_roberta \u001b[38;5;241m=\u001b[39m TrainingArguments(\n\u001b[0;32m     29\u001b[0m     output_dir                  \u001b[38;5;241m=\u001b[39m config[\u001b[38;5;124m'\u001b[39m\u001b[38;5;124mpaths\u001b[39m\u001b[38;5;124m'\u001b[39m][\u001b[38;5;124m'\u001b[39m\u001b[38;5;124mmodel_dirs\u001b[39m\u001b[38;5;124m'\u001b[39m][\u001b[38;5;124m'\u001b[39m\u001b[38;5;124mroberta\u001b[39m\u001b[38;5;124m'\u001b[39m],\n\u001b[0;32m     30\u001b[0m     num_train_epochs            \u001b[38;5;241m=\u001b[39m \u001b[38;5;28mint\u001b[39m(config[\u001b[38;5;124m'\u001b[39m\u001b[38;5;124mtraining\u001b[39m\u001b[38;5;124m'\u001b[39m][\u001b[38;5;124m'\u001b[39m\u001b[38;5;124mepochs\u001b[39m\u001b[38;5;124m'\u001b[39m][\u001b[38;5;124m'\u001b[39m\u001b[38;5;124mroberta\u001b[39m\u001b[38;5;124m'\u001b[39m]),\n\u001b[0;32m     31\u001b[0m     per_device_train_batch_size \u001b[38;5;241m=\u001b[39m \u001b[38;5;28mint\u001b[39m(config[\u001b[38;5;124m'\u001b[39m\u001b[38;5;124mtraining\u001b[39m\u001b[38;5;124m'\u001b[39m][\u001b[38;5;124m'\u001b[39m\u001b[38;5;124mbatch_size\u001b[39m\u001b[38;5;124m'\u001b[39m][\u001b[38;5;124m'\u001b[39m\u001b[38;5;124mroberta\u001b[39m\u001b[38;5;124m'\u001b[39m]),\n\u001b[0;32m     32\u001b[0m     per_device_eval_batch_size  \u001b[38;5;241m=\u001b[39m \u001b[38;5;28mint\u001b[39m(config[\u001b[38;5;124m'\u001b[39m\u001b[38;5;124mtraining\u001b[39m\u001b[38;5;124m'\u001b[39m][\u001b[38;5;124m'\u001b[39m\u001b[38;5;124mbatch_size\u001b[39m\u001b[38;5;124m'\u001b[39m][\u001b[38;5;124m'\u001b[39m\u001b[38;5;124mroberta\u001b[39m\u001b[38;5;124m'\u001b[39m]),\n\u001b[0;32m     33\u001b[0m     learning_rate               \u001b[38;5;241m=\u001b[39m \u001b[38;5;28mfloat\u001b[39m(config[\u001b[38;5;124m'\u001b[39m\u001b[38;5;124mtraining\u001b[39m\u001b[38;5;124m'\u001b[39m][\u001b[38;5;124m'\u001b[39m\u001b[38;5;124mlearning_rate\u001b[39m\u001b[38;5;124m'\u001b[39m]),\n\u001b[0;32m     34\u001b[0m     evaluation_strategy         \u001b[38;5;241m=\u001b[39m \u001b[38;5;124m\"\u001b[39m\u001b[38;5;124mepoch\u001b[39m\u001b[38;5;124m\"\u001b[39m,\n\u001b[0;32m     35\u001b[0m     save_strategy               \u001b[38;5;241m=\u001b[39m \u001b[38;5;124m\"\u001b[39m\u001b[38;5;124mepoch\u001b[39m\u001b[38;5;124m\"\u001b[39m,\n\u001b[0;32m     36\u001b[0m     load_best_model_at_end      \u001b[38;5;241m=\u001b[39m \u001b[38;5;28;01mTrue\u001b[39;00m,\n\u001b[0;32m     37\u001b[0m     metric_for_best_model       \u001b[38;5;241m=\u001b[39m \u001b[38;5;124m\"\u001b[39m\u001b[38;5;124mf1\u001b[39m\u001b[38;5;124m\"\u001b[39m,\n\u001b[0;32m     38\u001b[0m     logging_strategy            \u001b[38;5;241m=\u001b[39m \u001b[38;5;124m\"\u001b[39m\u001b[38;5;124msteps\u001b[39m\u001b[38;5;124m\"\u001b[39m,\n\u001b[1;32m---> 39\u001b[0m     logging_steps               \u001b[38;5;241m=\u001b[39m \u001b[43mlogging_steps\u001b[49m,      \u001b[38;5;66;03m# reuse the same logging interval\u001b[39;00m\n\u001b[0;32m     40\u001b[0m     report_to                   \u001b[38;5;241m=\u001b[39m \u001b[38;5;124m\"\u001b[39m\u001b[38;5;124mnone\u001b[39m\u001b[38;5;124m\"\u001b[39m,\n\u001b[0;32m     41\u001b[0m     dataloader_pin_memory       \u001b[38;5;241m=\u001b[39m \u001b[38;5;28;01mFalse\u001b[39;00m\n\u001b[0;32m     42\u001b[0m )\n\u001b[0;32m     44\u001b[0m \u001b[38;5;66;03m# ── 5) Instantiate CustomTrainer for RoBERTa ────────────────────────\u001b[39;00m\n\u001b[0;32m     45\u001b[0m trainer_roberta \u001b[38;5;241m=\u001b[39m model_utils\u001b[38;5;241m.\u001b[39mCustomTrainer(\n\u001b[0;32m     46\u001b[0m     model           \u001b[38;5;241m=\u001b[39m model_roberta,\n\u001b[0;32m     47\u001b[0m     args            \u001b[38;5;241m=\u001b[39m training_args_roberta,\n\u001b[1;32m   (...)\u001b[0m\n\u001b[0;32m     55\u001b[0m     alpha           \u001b[38;5;241m=\u001b[39m weight_list\n\u001b[0;32m     56\u001b[0m )\n",
      "\u001b[1;31mNameError\u001b[0m: name 'logging_steps' is not defined"
     ]
    }
   ],
   "source": [
    "# ── 1) Prepare RoBERTa tokenizer & model ───────────────────────────\n",
    "tokenizer_roberta = model_utils.get_tokenizer(\"roberta\")\n",
    "model_roberta     = model_utils.get_model(\"roberta\", num_labels=3).to(device)\n",
    "\n",
    "# ── 2) (Re‑)tokenize texts for RoBERTa ─────────────────────────────\n",
    "#    Note: must redo tokenization because RoBERTa's vocab & special tokens differ\n",
    "train_enc_roberta = tokenizer_roberta(\n",
    "    train_df['text'].tolist(),\n",
    "    padding=True,\n",
    "    truncation=True,\n",
    "    max_length=config['training']['max_length']['bert_roberta']\n",
    ")\n",
    "val_enc_roberta = tokenizer_roberta(\n",
    "    val_df['text'].tolist(),\n",
    "    padding=True,\n",
    "    truncation=True,\n",
    "    max_length=config['training']['max_length']['bert_roberta']\n",
    ")\n",
    "\n",
    "# ── 3) Wrap into torch Datasets ────────────────────────────────────\n",
    "train_dataset_roberta = TextDataset(train_enc_roberta,\n",
    "                                    [config['model']['label_mapping'][l] for l in train_df['label']])\n",
    "val_dataset_roberta   = TextDataset(val_enc_roberta,\n",
    "                                    [config['model']['label_mapping'][l] for l in val_df['label']])\n",
    "\n",
    "# ── 4) Update & reuse TrainingArguments ────────────────────────────\n",
    "#    (point at new output dir, adjust epochs)\n",
    "training_args_roberta = TrainingArguments(\n",
    "    output_dir                  = config['paths']['model_dirs']['roberta'],\n",
    "    num_train_epochs            = int(config['training']['epochs']['roberta']),\n",
    "    per_device_train_batch_size = int(config['training']['batch_size']['roberta']),\n",
    "    per_device_eval_batch_size  = int(config['training']['batch_size']['roberta']),\n",
    "    learning_rate               = float(config['training']['learning_rate']),\n",
    "    evaluation_strategy         = \"epoch\",\n",
    "    save_strategy               = \"epoch\",\n",
    "    load_best_model_at_end      = True,\n",
    "    metric_for_best_model       = \"f1\",\n",
    "    logging_strategy            = \"steps\",\n",
    "    logging_steps               = logging_steps,      # reuse the same logging interval\n",
    "    report_to                   = \"none\",\n",
    "    dataloader_pin_memory       = False\n",
    ")\n",
    "\n",
    "# ── 5) Instantiate CustomTrainer for RoBERTa ────────────────────────\n",
    "trainer_roberta = model_utils.CustomTrainer(\n",
    "    model           = model_roberta,\n",
    "    args            = training_args_roberta,\n",
    "    train_dataset   = train_dataset_roberta,\n",
    "    eval_dataset    = val_dataset_roberta,\n",
    "    compute_metrics = model_utils.compute_metrics,\n",
    "    callbacks       = [EarlyStoppingCallback(\n",
    "                         early_stopping_patience=int(config['training']['early_stopping_patience'])\n",
    "                       )],\n",
    "    use_focal       = bool(config['training']['use_focal_loss']),\n",
    "    alpha           = weight_list\n",
    ")\n",
    "\n",
    "# ── 6) Train & evaluate ────────────────────────────────────────────\n",
    "print(\"⏳ Starting RoBERTa training…\")\n",
    "start = time.time()\n",
    "trainer_roberta.train()\n",
    "elapsed = (time.time() - start) / 60\n",
    "print(f\"✅ RoBERTa training finished in {elapsed:.1f} min\")\n",
    "\n",
    "print(\"📝 Evaluating RoBERTa on validation split…\")\n",
    "roberta_metrics = trainer_roberta.evaluate()\n",
    "print(\"RoBERTa Validation metrics:\", roberta_metrics)\n",
    "logging.info(f\"RoBERTa validation metrics → {roberta_metrics}\")\n"
   ]
  },
  {
   "cell_type": "markdown",
   "metadata": {},
   "source": [
    "## Model Selection\n",
    "\n",
    "I compare BERT vs RoBERTa on the validation F1 score and choose the best for final deployment.\n"
   ]
  },
  {
   "cell_type": "code",
   "execution_count": null,
   "metadata": {},
   "outputs": [],
   "source": [
    "# Compare F1 scores and pick best\n",
    "best_model = \"RoBERTa\" if roberta_metrics['eval_f1'] >= metrics['eval_f1'] else \"BERT\"\n",
    "print(f\"Selected best model: {best_model}\")\n",
    "\n",
    "# Save the best model and tokenizer to the final directory\n",
    "final_dir = config['paths']['model_dirs']['final']\n",
    "if best_model == \"RoBERTa\":\n",
    "    trainer_roberta.model.save_pretrained(final_dir)\n",
    "    tokenizer_roberta.save_pretrained(final_dir)\n",
    "else:\n",
    "    trainer.model.save_pretrained(final_dir)\n",
    "    tokenizer.save_pretrained(final_dir)\n",
    "\n",
    "logging.info(f\"Saved {best_model} as final model at {final_dir}\")\n"
   ]
  },
  {
   "cell_type": "code",
   "execution_count": null,
   "metadata": {},
   "outputs": [],
   "source": [
    "# ─── Validation F1 Comparison ────────────────────────────────────────────\n",
    "import matplotlib.pyplot as plt\n",
    "\n",
    "# Gather F1 scores\n",
    "f1_scores = [\n",
    "    metrics['eval_f1'],\n",
    "    roberta_metrics['eval_f1']\n",
    "]\n",
    "models = ['BERT‑base', 'RoBERTa‑base']\n",
    "\n",
    "# Plot\n",
    "fig, ax = plt.subplots(figsize=(5, 3))\n",
    "bars = ax.bar(models, f1_scores, color=['#4F81BD', '#C0504D'])\n",
    "ax.set_ylim(0, 1)\n",
    "ax.set_ylabel('Validation F1')\n",
    "ax.set_title('BERT vs RoBERTa Validation F1')\n",
    "\n",
    "# Annotate values\n",
    "for bar, score in zip(bars, f1_scores):\n",
    "    ax.text(\n",
    "        bar.get_x() + bar.get_width()/2,\n",
    "        score + 0.02,\n",
    "        f\"{score:.3f}\",\n",
    "        ha='center',\n",
    "        va='bottom'\n",
    "    )\n",
    "\n",
    "plt.tight_layout()\n",
    "plt.show()\n"
   ]
  },
  {
   "cell_type": "markdown",
   "metadata": {},
   "source": [
    "## Final Evaluation on Test Set\n",
    "\n",
    "I now evaluate the selected final model on the held-out test set to report our definitive performance metrics.\n"
   ]
  },
  {
   "cell_type": "code",
   "execution_count": null,
   "metadata": {},
   "outputs": [],
   "source": [
    "# Prepare test dataset for evaluation\n",
    "from datasets import Dataset\n",
    "\n",
    "tokenizer_final = tokenizer_roberta if best_model==\"RoBERTa\" else tokenizer\n",
    "trainer_final   = trainer_roberta if best_model==\"RoBERTa\" else trainer\n",
    "\n",
    "test_enc = tokenizer_final(\n",
    "    test_df['text'].tolist(),\n",
    "    padding=True,\n",
    "    truncation=True,\n",
    "    max_length=config['training']['max_length']['bert_roberta']\n",
    ")\n",
    "test_dataset = Dataset.from_dict({\n",
    "    **test_enc,\n",
    "    'labels': [config['model']['label_mapping'][l] for l in test_df['label']]\n",
    "})\n",
    "\n",
    "# Evaluate on test set\n",
    "test_metrics = trainer_final.evaluate(test_dataset=test_dataset)\n",
    "print(\"Test Set Performance:\", test_metrics)\n",
    "logging.info(f\"Test set performance: {test_metrics}\")\n"
   ]
  },
  {
   "cell_type": "code",
   "execution_count": null,
   "metadata": {},
   "outputs": [],
   "source": [
    "# ─── Confusion Matrix on Test Set ───────────────────────────────────────\n",
    "import seaborn as sns\n",
    "import matplotlib.pyplot as plt\n",
    "from sklearn.metrics import confusion_matrix\n",
    "\n",
    "# Get true & predicted labels\n",
    "y_true = [config['model']['label_mapping'][l] for l in test_df['label']]\n",
    "preds = trainer_final.predict(test_dataset)\n",
    "y_pred = preds.predictions.argmax(axis=-1)\n",
    "\n",
    "# Build matrix & label names\n",
    "labels = list(config['model']['label_mapping'].keys())\n",
    "cm = confusion_matrix(y_true, y_pred)\n",
    "\n",
    "# Plot\n",
    "fig, ax = plt.subplots(figsize=(4, 4))\n",
    "sns.heatmap(\n",
    "    cm,\n",
    "    annot=True,\n",
    "    fmt='d',\n",
    "    cmap='Blues',\n",
    "    xticklabels=labels,\n",
    "    yticklabels=labels,\n",
    "    ax=ax\n",
    ")\n",
    "ax.set_xlabel('Predicted Label')\n",
    "ax.set_ylabel('True Label')\n",
    "ax.set_title('Test‑Set Confusion Matrix')\n",
    "\n",
    "plt.tight_layout()\n",
    "plt.show()\n"
   ]
  },
  {
   "cell_type": "markdown",
   "metadata": {},
   "source": [
    "## Evaluation Analysis\n",
    "\n",
    "Let’s visualize the confusion matrix and ROC/PR curves on the test set to understand where my model excels and where it makes mistakes.\n"
   ]
  },
  {
   "cell_type": "code",
   "execution_count": 6,
   "metadata": {},
   "outputs": [
    {
     "ename": "NameError",
     "evalue": "name 'trainer_final' is not defined",
     "output_type": "error",
     "traceback": [
      "\u001b[1;31m---------------------------------------------------------------------------\u001b[0m",
      "\u001b[1;31mNameError\u001b[0m                                 Traceback (most recent call last)",
      "Cell \u001b[1;32mIn[6], line 4\u001b[0m\n\u001b[0;32m      2\u001b[0m \u001b[38;5;28;01mfrom\u001b[39;00m\u001b[38;5;250m \u001b[39m\u001b[38;5;21;01mutils\u001b[39;00m\u001b[38;5;250m \u001b[39m\u001b[38;5;28;01mimport\u001b[39;00m viz\n\u001b[0;32m      3\u001b[0m \u001b[38;5;66;03m# Get raw predictions on test\u001b[39;00m\n\u001b[1;32m----> 4\u001b[0m pred_out \u001b[38;5;241m=\u001b[39m \u001b[43mtrainer_final\u001b[49m\u001b[38;5;241m.\u001b[39mpredict(test_dataset)\n\u001b[0;32m      5\u001b[0m logits \u001b[38;5;241m=\u001b[39m pred_out\u001b[38;5;241m.\u001b[39mpredictions\n\u001b[0;32m      6\u001b[0m y_true \u001b[38;5;241m=\u001b[39m [config[\u001b[38;5;124m'\u001b[39m\u001b[38;5;124mmodel\u001b[39m\u001b[38;5;124m'\u001b[39m][\u001b[38;5;124m'\u001b[39m\u001b[38;5;124mlabel_mapping\u001b[39m\u001b[38;5;124m'\u001b[39m][l] \u001b[38;5;28;01mfor\u001b[39;00m l \u001b[38;5;129;01min\u001b[39;00m test_df[\u001b[38;5;124m'\u001b[39m\u001b[38;5;124mlabel\u001b[39m\u001b[38;5;124m'\u001b[39m]]\n",
      "\u001b[1;31mNameError\u001b[0m: name 'trainer_final' is not defined"
     ]
    }
   ],
   "source": [
    "import torch\n",
    "from utils import viz\n",
    "# Get raw predictions on test\n",
    "pred_out = trainer_final.predict(test_dataset)\n",
    "logits = pred_out.predictions\n",
    "y_true = [config['model']['label_mapping'][l] for l in test_df['label']]\n",
    "y_pred = logits.argmax(axis=1)\n",
    "y_prob = torch.softmax(torch.tensor(logits), dim=1).numpy()\n",
    "\n",
    "# Plot & save confusion matrix (normalized)\n",
    "viz.plot_confusion_matrix(\n",
    "    y_true, y_pred,\n",
    "    labels=list(config['model']['label_mapping'].keys()),\n",
    "    normalize=True,\n",
    "    save_path=\"diagrams/confusion_matrix.png\"\n",
    ")\n",
    "\n",
    "# Plot & save ROC curves\n",
    "viz.plot_roc_curves(\n",
    "    y_true, y_prob,\n",
    "    class_names=list(config['model']['label_mapping'].keys()),\n",
    "    save_path=\"diagrams/roc_curves.png\"\n",
    ")\n",
    "\n",
    "# Plot & save Precision-Recall curves\n",
    "viz.plot_pr_curves(\n",
    "    y_true, y_prob,\n",
    "    class_names=list(config['model']['label_mapping'].keys()),\n",
    "    save_path=\"diagrams/pr_curves.png\"\n",
    ")\n",
    "\n",
    "print(\"Saved confusion matrix, ROC curves, and PR curves to diagrams/\")\n"
   ]
  },
  {
   "cell_type": "markdown",
   "metadata": {},
   "source": [
    "## Error Analysis\n",
    "\n",
    "To understand our model’s mistakes, let’s look at a few examples where the predicted label differs from the true label (especially between AI‑generated and AI‑paraphrased).\n"
   ]
  },
  {
   "cell_type": "code",
   "execution_count": null,
   "metadata": {},
   "outputs": [],
   "source": [
    "import numpy as np\n",
    "\n",
    "# Find misclassified indices\n",
    "mis_idx = np.where(y_pred != y_true)[0]\n",
    "print(f\"Total misclassifications: {len(mis_idx)} ({len(mis_idx)/len(y_true)*100:.2f}% of test set)\")\n",
    "\n",
    "# Display first 5 misclassified examples\n",
    "for idx in mis_idx[:5]:\n",
    "    true_label = list(config['model']['label_mapping'].keys())[y_true[idx]]\n",
    "    pred_label = list(config['model']['label_mapping'].keys())[y_pred[idx]]\n",
    "    print(f\"\\nExample {idx}: True = {true_label}, Predicted = {pred_label}\")\n",
    "    print(test_df.iloc[idx]['text'][:200] + \"...\\n\")\n"
   ]
  },
  {
   "cell_type": "markdown",
   "metadata": {},
   "source": [
    "## Explainability with LIME\n",
    "\n",
    "I use LIME to interpret the model’s prediction for a specific example, showing which words contributed most to the decision.\n"
   ]
  },
  {
   "cell_type": "code",
   "execution_count": null,
   "metadata": {},
   "outputs": [],
   "source": [
    "from utils import dashboard_utils\n",
    "\n",
    "# Choose an example (first misclassified if available, else index 0)\n",
    "idx = mis_idx[0] if len(mis_idx) > 0 else 0\n",
    "sample_text = test_df.iloc[idx]['text']\n",
    "true_label = test_df.iloc[idx]['label']\n",
    "print(f\"Explaining example {idx} (True label: {true_label})\\n\")\n",
    "print(sample_text[:300] + \"...\\n\")\n",
    "\n",
    "# Generate LIME explanation\n",
    "expl = dashboard_utils.explain_prediction(\n",
    "    sample_text,\n",
    "    tokenizer_roberta if best_model==\"RoBERTa\" else tokenizer,\n",
    "    trainer_roberta.model if best_model==\"RoBERTa\" else trainer.model,\n",
    "    num_features=6\n",
    ")\n",
    "\n",
    "# Display the top contributing words\n",
    "print(\"Top contributing words and weights:\")\n",
    "for word, weight in expl:\n",
    "    print(f\"{word:>15}: {weight:.3f}\")\n"
   ]
  },
  {
   "cell_type": "markdown",
   "metadata": {},
   "source": [
    "## Conclusion\n",
    "\n",
    "- My **RoBERTa-base** detector achieves about **91% accuracy** (macro F1 ~0.91) on the test set.  \n",
    "- It almost perfectly distinguishes human text (recall > 99%), with most errors occurring between AI-generated and AI-paraphrased classes.  \n",
    "- BERT was a strong baseline but slightly behind RoBERTa, confirming the benefits of RoBERTa’s pretraining improvements.  \n",
    "- LIME explanations provide insight into which words drive each prediction, aiding model interpretability.\n",
    "\n",
    "With the model finalized, I'm ready to deploy it in interactive dashboards (next notebooks).\n"
   ]
  }
 ],
 "metadata": {
  "kernelspec": {
   "display_name": "MyProject (Conda)",
   "language": "python",
   "name": "myproject"
  },
  "language_info": {
   "codemirror_mode": {
    "name": "ipython",
    "version": 3
   },
   "file_extension": ".py",
   "mimetype": "text/x-python",
   "name": "python",
   "nbconvert_exporter": "python",
   "pygments_lexer": "ipython3",
   "version": "3.9.21"
  }
 },
 "nbformat": 4,
 "nbformat_minor": 2
}
