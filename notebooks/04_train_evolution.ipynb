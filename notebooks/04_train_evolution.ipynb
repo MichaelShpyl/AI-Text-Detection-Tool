{
 "cells": [
  {
   "cell_type": "markdown",
   "metadata": {},
   "source": [
    "# Model Training (BERT → RoBERTa Evolution)\n",
    "\n",
    "In this notebook, I fine‑tune transformer models on my dataset. I start with **BERT‑base**, then **RoBERTa‑base**, comparing validation performance to select a final model. I also prepare for class imbalance handling and logging.\n"
   ]
  },
  {
   "cell_type": "code",
   "execution_count": 2,
   "metadata": {},
   "outputs": [
    {
     "name": "stdout",
     "output_type": "stream",
     "text": [
      "new cwd: c:\\Testing\\Final_Year_Project\\AI-Text-Detection-Tool\n"
     ]
    }
   ],
   "source": [
    "# move up one level so that works\n",
    "import os\n",
    "os.chdir(os.path.abspath(os.path.join(os.getcwd(), \"..\")))\n",
    "print(\"new cwd:\", os.getcwd())\n"
   ]
  },
  {
   "cell_type": "code",
   "execution_count": null,
   "metadata": {},
   "outputs": [
    {
     "name": "stdout",
     "output_type": "stream",
     "text": [
      "Data sizes → Train: 309520, Val: 38690, Test: 38691\n"
     ]
    },
    {
     "ename": "KeyError",
     "evalue": "'human_written'",
     "output_type": "error",
     "traceback": [
      "\u001b[1;31m---------------------------------------------------------------------------\u001b[0m",
      "\u001b[1;31mKeyError\u001b[0m                                  Traceback (most recent call last)",
      "Cell \u001b[1;32mIn[3], line 33\u001b[0m\n\u001b[0;32m     31\u001b[0m weight_list \u001b[38;5;241m=\u001b[39m [\u001b[38;5;241m0\u001b[39m]\u001b[38;5;241m*\u001b[39m\u001b[38;5;28mlen\u001b[39m(class_weights)\n\u001b[0;32m     32\u001b[0m \u001b[38;5;28;01mfor\u001b[39;00m lab, wt \u001b[38;5;129;01min\u001b[39;00m \u001b[38;5;28mzip\u001b[39m(labels, class_weights):\n\u001b[1;32m---> 33\u001b[0m     idx \u001b[38;5;241m=\u001b[39m \u001b[43mconfig\u001b[49m\u001b[43m[\u001b[49m\u001b[38;5;124;43m'\u001b[39;49m\u001b[38;5;124;43mmodel\u001b[39;49m\u001b[38;5;124;43m'\u001b[39;49m\u001b[43m]\u001b[49m\u001b[43m[\u001b[49m\u001b[38;5;124;43m'\u001b[39;49m\u001b[38;5;124;43mlabel_mapping\u001b[39;49m\u001b[38;5;124;43m'\u001b[39;49m\u001b[43m]\u001b[49m\u001b[43m[\u001b[49m\u001b[43mlab\u001b[49m\u001b[43m]\u001b[49m\n\u001b[0;32m     34\u001b[0m     weight_list[idx] \u001b[38;5;241m=\u001b[39m \u001b[38;5;28mfloat\u001b[39m(wt)\n\u001b[0;32m     35\u001b[0m \u001b[38;5;28mprint\u001b[39m(\u001b[38;5;124m\"\u001b[39m\u001b[38;5;124mClass weights:\u001b[39m\u001b[38;5;124m\"\u001b[39m, weight_list)\n",
      "\u001b[1;31mKeyError\u001b[0m: 'human_written'"
     ]
    }
   ],
   "source": [
    "import torch\n",
    "import numpy as np\n",
    "import logging\n",
    "import yaml\n",
    "import pandas as pd\n",
    "from transformers import TrainingArguments, EarlyStoppingCallback\n",
    "from utils import model_utils\n",
    "\n",
    "# Load configuration\n",
    "with open(\"config.yaml\", \"r\") as f:\n",
    "    config = yaml.safe_load(f)\n",
    "\n",
    "# Load splits\n",
    "train_df = pd.read_parquet(config['paths']['train_data'])\n",
    "val_df   = pd.read_parquet(config['paths']['val_data'])\n",
    "test_df  = pd.read_parquet(config['paths']['test_data'])\n",
    "print(f\"Data sizes → Train: {len(train_df)}, Val: {len(val_df)}, Test: {len(test_df)}\")\n",
    "\n",
    "# Set up logging to file\n",
    "logging.basicConfig(\n",
    "    filename=config['paths']['log_file'],\n",
    "    level=logging.INFO,\n",
    "    format=\"%(asctime)s %(levelname)s: %(message)s\"\n",
    ")\n",
    "logging.info(\"Started training pipeline (BERT → RoBERTa)\")\n",
    "\n",
    "# Compute class weights for loss\n",
    "labels, counts = np.unique(train_df['label'], return_counts=True)\n",
    "class_weights = (1.0 / counts) * np.mean(counts)\n",
    "# Map to [0,1,2] order\n",
    "weight_list = [0]*len(class_weights)\n",
    "for lab, wt in zip(labels, class_weights):\n",
    "    idx = config['model']['label_mapping'][lab]\n",
    "    weight_list[idx] = float(wt)\n",
    "print(\"Class weights:\", weight_list)\n"
   ]
  }
 ],
 "metadata": {
  "kernelspec": {
   "display_name": "MyProject (Conda)",
   "language": "python",
   "name": "myproject"
  },
  "language_info": {
   "codemirror_mode": {
    "name": "ipython",
    "version": 3
   },
   "file_extension": ".py",
   "mimetype": "text/x-python",
   "name": "python",
   "nbconvert_exporter": "python",
   "pygments_lexer": "ipython3",
   "version": "3.9.21"
  }
 },
 "nbformat": 4,
 "nbformat_minor": 2
}
