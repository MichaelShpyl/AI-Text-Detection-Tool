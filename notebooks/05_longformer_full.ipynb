{
 "cells": [
  {
   "cell_type": "markdown",
   "metadata": {},
   "source": [
    "# Longformer Model for Extended Context (Optional)\n",
    "\n",
    "In cases where articles exceed 512 tokens, BERT/RoBERTa truncates important content. **Longformer** can handle up to 4096 tokens using sparse attention, making it ideal for full‑length articles.\n",
    "\n",
    "Training Longformer end‑to‑end is resource‑intensive, so here I provide the code scaffold without executing a full training run.\n"
   ]
  },
  {
   "cell_type": "code",
   "execution_count": null,
   "metadata": {
    "vscode": {
     "languageId": "plaintext"
    }
   },
   "outputs": [],
   "source": [
    "from transformers import AutoTokenizer, AutoModelForSequenceClassification\n",
    "import yaml\n",
    "\n",
    "# Load config to get max_length for longformer\n",
    "with open(\"config.yaml\", \"r\") as f:\n",
    "    config = yaml.safe_load(f)\n",
    "\n",
    "# Initialize Longformer tokenizer & model\n",
    "tokenizer_long = AutoTokenizer.from_pretrained(\"allenai/longformer-base-4096\")\n",
    "model_long     = AutoModelForSequenceClassification.from_pretrained(\n",
    "    \"allenai/longformer-base-4096\",\n",
    "    num_labels=3\n",
    ")\n",
    "model_long.eval()\n",
    "\n",
    "# Demonstrate tokenization on a small sample\n",
    "sample_texts = train_df['text'].head(2).tolist()\n",
    "tokens = tokenizer_long(\n",
    "    sample_texts,\n",
    "    padding=True,\n",
    "    truncation=True,\n",
    "    max_length=config['training']['max_length']['longformer']\n",
    ")\n",
    "print(\"Tokenized length for first sample:\", len(tokens['input_ids'][0]))\n"
   ]
  },
  {
   "cell_type": "markdown",
   "metadata": {},
   "source": []
  }
 ],
 "metadata": {
  "language_info": {
   "name": "python"
  }
 },
 "nbformat": 4,
 "nbformat_minor": 2
}
